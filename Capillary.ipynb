{
 "cells": [
  {
   "cell_type": "code",
   "execution_count": 1,
   "metadata": {},
   "outputs": [],
   "source": [
    "import matplotlib.pyplot as plt\n",
    "import os\n",
    "import sys\n",
    "import numpy as np\n",
    "import pandas as pd\n",
    "import time\n",
    "import math\n",
    "from array import array"
   ]
  },
  {
   "cell_type": "code",
   "execution_count": 2,
   "metadata": {},
   "outputs": [],
   "source": [
    "def get_eta(T, P):\n",
    "    eta = 2.113e-7 * T**1.1 * (1 + 1.16*np.exp(-2.44*(np.log(T) + 0.56)**2))\n",
    "    #print(\"Eta: \" + str(eta))\n",
    "    return eta\n",
    "\n",
    "def get_eq_P(T):\n",
    "    #n = 1.5e27 * T**1.5 * np.exp(-L/(k_B*T))\n",
    "    #print(\"n: \" + str(n))\n",
    "    #return k_B * T * n\n",
    "    \n",
    "    i_0 = 12.2440\n",
    "    return 0.1*T**2.5 * np.exp(i_0 - L/(k_B*T))\n",
    "\n",
    "def get_k_ss(T):\n",
    "    return 0.04*T**1.3\n",
    "\n",
    "def get_mu_over_kB(T, P):\n",
    "    #print((2*math.pi*m4)**(3/2)*(k_B*T)**(5/2))\n",
    "    lambda_t = h/(2*math.pi*m4*k_B*T)**0.5\n",
    "    #print(\"Lambda_t: \" + str(lambda_t))\n",
    "    mu_over_kB = np.log(P*lambda_t**3/(k_B *T))\n",
    "    return mu_over_kB\n",
    "\n",
    "def get_dP_dz(T, P):\n",
    "    eta = get_eta(T, P)\n",
    "    #print((math.pi * d**4 * L * P**2))\n",
    "    return float(128 * eta * q_dot * k_B * T /(math.pi * d**4 * L * P))\n",
    "\n",
    "def get_dT_dz(T, P):\n",
    "    eta = get_eta(T,P)\n",
    "    #print(\"Eta: \" + str(eta))\n",
    "    mu_over_kB = get_mu_over_kB(T, P)\n",
    "    k_ss = get_k_ss(T)\n",
    "    \n",
    "    #print(math.pi * d**4 * L * P**2 * (2.5 - mu_over_kB))\n",
    "    #print(q_dot*(np.pi*d*t))\n",
    "    #print((2.5 - mu_over_kB)*np.pi*d**4*L*P**2/(128*eta*k_B * T**2))\n",
    "    return (q_dot*(np.pi*((d + t)**2 - d**2)*k_ss + (2.5 - mu_over_kB)*(np.pi*d**4 *L*P**2)/(128*eta*k_B * T**2))**-1)\n"
   ]
  },
  {
   "cell_type": "code",
   "execution_count": 243,
   "metadata": {},
   "outputs": [],
   "source": [
    "#all numbers are in MKS, i.e. kg, K, Pa s, etc.\n",
    "\n",
    "L = 9.94e-23\n",
    "k_B = 1.381e-23\n",
    "h = 6.626e-34\n",
    "m4 = 6.642e-27\n",
    "inch = 0.0254\n",
    "uw = 1e-6\n",
    "\n",
    "d = 0.085*inch#0.0425*inch#0.0225*inch#id\n",
    "t = (0.125*inch - d)/2#(0.0625*inch - d)/2# 0.02*inch#thickness\n",
    "length = 20*inch\n",
    "q_dot = 0.0008*uw #heat flow rate"
   ]
  },
  {
   "cell_type": "code",
   "execution_count": 244,
   "metadata": {},
   "outputs": [
    {
     "name": "stdout",
     "output_type": "stream",
     "text": [
      "50800\n"
     ]
    }
   ],
   "source": [
    "step = 1e-5\n",
    "n = int(length/step)\n",
    "print(n)\n",
    "\n",
    "T_start = 0.02\n",
    "P_start = get_eq_P(T_start)\n",
    "#print(\"P_start (Pa): \"+ str(P_start))\n",
    "z_start = 0"
   ]
  },
  {
   "cell_type": "code",
   "execution_count": 245,
   "metadata": {
    "scrolled": true
   },
   "outputs": [],
   "source": [
    "T_arr = []\n",
    "P_arr = []\n",
    "z_arr = []\n",
    "\n",
    "T_arr.append(T_start)\n",
    "P_arr.append(P_start)\n",
    "z_arr.append(z_start)\n",
    "last_z = 0.0\n",
    "\n",
    "i = 0\n",
    "while i < n:\n",
    "    T = T_arr[i]\n",
    "    P = P_arr[i]\n",
    "    z = z_arr[i]\n",
    "    \n",
    "    #print(\"T: \" + str(T))\n",
    "    #print(\"P: \" + str(P))\n",
    "    #print(\"z: \" + str(z))\n",
    "    \n",
    "    dT_dz = get_dT_dz(T, P)\n",
    "    dz = step\n",
    "    #print(\"dz: \" + str(dz))\n",
    "    \n",
    "    dT = dz * dT_dz\n",
    "    T_arr.append(T + dT)\n",
    "    \n",
    "    #dP = dz * get_dP_dz(T, P)\n",
    "    P_arr.append(get_eq_P(T + dT))\n",
    "    #P_arr.append(P + dP)\n",
    "    \n",
    "    z_arr.append(z + dz)\n",
    "    last_z = z_arr[i]\n",
    "    \n",
    "    i += 1"
   ]
  },
  {
   "cell_type": "code",
   "execution_count": 246,
   "metadata": {},
   "outputs": [
    {
     "name": "stdout",
     "output_type": "stream",
     "text": [
      "Last T: 0.08180414616757027\n"
     ]
    },
    {
     "data": {
      "image/png": "[encoded data removed]",
      "text/plain": [
       "<Figure size 432x288 with 1 Axes>"
      ]
     },
     "metadata": {
      "needs_background": "light"
     },
     "output_type": "display_data"
    }
   ],
   "source": [
    "plt.plot(z_arr, T_arr)\n",
    "#plt.plot(z_arr, P_arr)\n",
    "plt.xlabel(\"Length along capillary (m)\")\n",
    "\n",
    "print(\"Last T: \" + str(T_arr[n]))"
   ]
  },
  {
   "cell_type": "code",
   "execution_count": 148,
   "metadata": {},
   "outputs": [],
   "source": [
    "micropoise = 1e-7\n",
    "nu = 1.04 * micropoise\n",
    "T = 3.0\n",
    "\n",
    "def get_throughput(p_1, p_2, d, L):\n",
    "    return (p_1**2 - p_2**2)*d**4 * np.pi/(256 * k_B * nu * T * L)"
   ]
  },
  {
   "cell_type": "code",
   "execution_count": 11,
   "metadata": {},
   "outputs": [
    {
     "name": "stdout",
     "output_type": "stream",
     "text": [
      "Time to empty cell (s): 13.472480992266235\n"
     ]
    }
   ],
   "source": [
    "atm_to_pa = 1.013e5\n",
    "p_1 = 0.25 * atm_to_pa\n",
    "p_2 = 0.01 * atm_to_pa\n",
    "\n",
    "n_in_cell = 2.71e24\n",
    "\n",
    "throughput = get_throughput(p_1, p_2, d, length)\n",
    "\n",
    "print(\"Time to empty cell (s): \" + str(n_in_cell/throughput))"
   ]
  },
  {
   "cell_type": "code",
   "execution_count": null,
   "metadata": {},
   "outputs": [],
   "source": []
  }
 ],
 "metadata": {
  "kernelspec": {
   "display_name": "Python 3",
   "language": "python",
   "name": "python3"
  },
  "language_info": {
   "codemirror_mode": {
    "name": "ipython",
    "version": 3
   },
   "file_extension": ".py",
   "mimetype": "text/x-python",
   "name": "python",
   "nbconvert_exporter": "python",
   "pygments_lexer": "ipython3",
   "version": "3.7.10"
  }
 },
 "nbformat": 4,
 "nbformat_minor": 4
}
