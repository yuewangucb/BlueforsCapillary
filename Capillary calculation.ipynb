{
 "cells": [
  {
   "cell_type": "code",
   "execution_count": 3,
   "id": "e9508b11",
   "metadata": {},
   "outputs": [],
   "source": [
    "import numpy as np"
   ]
  },
  {
   "cell_type": "markdown",
   "id": "a0a849a3",
   "metadata": {},
   "source": [
    "# Variables"
   ]
  },
  {
   "cell_type": "markdown",
   "id": "4719d2ef",
   "metadata": {},
   "source": [
    "Helium viscosity from 2K to 5K: https://royalsocietypublishing.org/doi/10.1098/rspa.1950.0181\n",
    "\n",
    "Gas helium viscosity: https://pressbooks.uiowa.edu/clonedbook/chapter/viscosity-and-laminar-flow-poiseuilles-law/#import-auto-id3073392\n",
    "\n",
    "Stainless steel thermal conductivity: https://thermtest.com/thermal-conductivity-of-steel"
   ]
  },
  {
   "cell_type": "code",
   "execution_count": 62,
   "id": "1fedb5f3",
   "metadata": {},
   "outputs": [],
   "source": [
    "OD_above_50K = 0.25*0.0254 #m\n",
    "OD_below_50K = 0.125*0.0254 #m\n",
    "\n",
    "thickness_above_50K = (0.25-0.18)*0.0254 #m, capillary wall thickness\n",
    "thickness_below_50K = (0.125-0.085)*0.0254 #m, capillary wall thickness\n",
    "\n",
    "length_above_50K = 10*0.0254 #m\n",
    "length_below_50K = 4*20*0.0254 #m\n",
    "\n",
    "pressure_warm_end_condensation = 1*10**5 #Pa\n",
    "pressure_cold_end_condensation = 0.25*10**5 #Pa, approximation\n",
    "pressure_50K_condensation = 0.5*10**5 #Pa, approximation. By ideal gas law: pressure_warm_end*42/300\n",
    "\n",
    "pressure_warm_end_evaporation = 0.01*10**5 #Pa\n",
    "pressure_cold_end_evaporation = 0.25*10**5 #Pa, approximation\n",
    "pressure_50K_evaporation = 0.05*10**5 #Pa, approximation. By ideal gas law: pressure_warm_end*42/300\n",
    "\n",
    "viscosity_gas = 0.0196*10**(-3) #Pa*s, https://pressbooks.uiowa.edu/clonedbook/chapter/viscosity-and-laminar-flow-poiseuilles-law/#import-auto-id3073392\n",
    "viscosity_liquid = 0.03*10**(-3) #Pa*s, https://royalsocietypublishing.org/doi/epdf/10.1098/rspa.1950.0181\n",
    "\n",
    "stainless_steel_thermal_conductivity = 15*10**(-3) #W/K, https://thermtest.com/thermal-conductivity-of-steel\n",
    "\n",
    "helium_volume = 1 #m^3, approximation"
   ]
  },
  {
   "cell_type": "markdown",
   "id": "160b8c60",
   "metadata": {},
   "source": [
    "Poiseuille's Law: https://pressbooks.uiowa.edu/clonedbook/chapter/viscosity-and-laminar-flow-poiseuilles-law/"
   ]
  },
  {
   "cell_type": "code",
   "execution_count": 13,
   "id": "14ab117b",
   "metadata": {},
   "outputs": [],
   "source": [
    "#radius is the inner radius\n",
    "def getTubeVolmeFlowRate(viscosity, startPressure, endPressure, length, radius):\n",
    "    R = 8*viscosity*length/(np.pi*(radius**4))\n",
    "    return (startPressure-endPressure)/R"
   ]
  },
  {
   "cell_type": "markdown",
   "id": "78eae231",
   "metadata": {},
   "source": [
    "Fourier's law of heat conduction for cylinders, page 8 on https://www.sfu.ca/~mbahrami/ENSC%20388/Notes/Staedy%20Conduction%20Heat%20Transfer.pdf"
   ]
  },
  {
   "cell_type": "code",
   "execution_count": 9,
   "id": "2f55c1ed",
   "metadata": {},
   "outputs": [],
   "source": [
    "def getTubeHeatFlowRate(outerTemperature, innerTemperature, outerRadius, innerRadius, length, thermalConductivity):\n",
    "    R = (outerRadius - innerRadius)/(4*np.pi*innerRadius*outerRadius*thermalConductivity)\n",
    "    return (innerTemperature - outerTemperature)/R"
   ]
  },
  {
   "cell_type": "markdown",
   "id": "5db2c6e5",
   "metadata": {},
   "source": [
    "# Gas throughput"
   ]
  },
  {
   "cell_type": "markdown",
   "id": "9ce9ef48",
   "metadata": {},
   "source": [
    "## Condensation time"
   ]
  },
  {
   "cell_type": "code",
   "execution_count": 70,
   "id": "63deb0b9",
   "metadata": {},
   "outputs": [
    {
     "name": "stdout",
     "output_type": "stream",
     "text": [
      "1.723316272798174\n",
      "0.580276537617953\n"
     ]
    }
   ],
   "source": [
    "inner_radius_above_50K = OD_above_50K - thickness_above_50K\n",
    "condensation_volume_flow_rate_above_50K = getTubeVolmeFlowRate(viscosity_gas,pressure_warm_end_condensation,pressure_50K_condensation,length_above_50K,inner_radius_above_50K)\n",
    "condensation_time_above_50K = helium_volume/condensation_volume_flow_rate_above_50K\n",
    "print(condensation_volume_flow_rate_above_50K)\n",
    "print(condensation_time_above_50K) #in seconds"
   ]
  },
  {
   "cell_type": "code",
   "execution_count": 71,
   "id": "dcf82e39",
   "metadata": {},
   "outputs": [
    {
     "name": "stdout",
     "output_type": "stream",
     "text": [
      "0.005355878159813628\n",
      "186.71074474830803\n"
     ]
    }
   ],
   "source": [
    "inner_radius_below_50K = OD_below_50K - thickness_below_50K\n",
    "condensation_volume_flow_rate_below_50K = getTubeVolmeFlowRate(viscosity_gas,pressure_50K_condensation,pressure_cold_end_condensation,length_below_50K,inner_radius_below_50K)\n",
    "condensation_time_below_50K = helium_volume/condensation_volume_flow_rate_below_50K\n",
    "print(volume_flow_rate_below_50K)\n",
    "print(condensation_time_below_50K) #in seconds"
   ]
  },
  {
   "cell_type": "markdown",
   "id": "7166f9da",
   "metadata": {},
   "source": [
    "The condensation time will be limited by the section below the 50K plate, which is 186 seconds."
   ]
  },
  {
   "cell_type": "markdown",
   "id": "2d3535ca",
   "metadata": {},
   "source": [
    "## Evaporation time"
   ]
  },
  {
   "cell_type": "code",
   "execution_count": 68,
   "id": "2cbf3802",
   "metadata": {},
   "outputs": [
    {
     "name": "stdout",
     "output_type": "stream",
     "text": [
      "1.723316272798174\n",
      "7.253456720224411\n"
     ]
    }
   ],
   "source": [
    "inner_radius_above_50K = OD_above_50K - thickness_above_50K\n",
    "evaporation_volume_flow_rate_above_50K = getTubeVolmeFlowRate(viscosity_gas,pressure_50K_evaporation,pressure_warm_end_evaporation,length_above_50K,inner_radius_above_50K)\n",
    "evaporation_time_above_50K = helium_volume/evaporation_volume_flow_rate_above_50K\n",
    "print(volume_flow_rate_above_50K)\n",
    "print(evaporation_time_above_50K) #in seconds"
   ]
  },
  {
   "cell_type": "code",
   "execution_count": 72,
   "id": "31935cee",
   "metadata": {},
   "outputs": [
    {
     "name": "stdout",
     "output_type": "stream",
     "text": [
      "0.005355878159813628\n",
      "233.38843093538503\n"
     ]
    }
   ],
   "source": [
    "inner_radius_below_50K = OD_below_50K - thickness_below_50K\n",
    "evaporation_volume_flow_rate_below_50K = getTubeVolmeFlowRate(viscosity_gas,pressure_cold_end_evaporation,pressure_50K_evaporation,length_below_50K,inner_radius_below_50K)\n",
    "evaporation_time_below_50K = helium_volume/evaporation_volume_flow_rate_below_50K\n",
    "print(volume_flow_rate_below_50K)\n",
    "print(evaporation_time_below_50K) #in seconds"
   ]
  },
  {
   "cell_type": "markdown",
   "id": "678ffc78",
   "metadata": {},
   "source": [
    "The evaporation time will be limited by the section below the 50K plate, which is 233 seconds."
   ]
  },
  {
   "cell_type": "markdown",
   "id": "1c0213c3",
   "metadata": {},
   "source": [
    "# Heat Load"
   ]
  },
  {
   "cell_type": "code",
   "execution_count": 74,
   "id": "79e1a880",
   "metadata": {},
   "outputs": [
    {
     "name": "stdout",
     "output_type": "stream",
     "text": [
      "5.7598880629860005\n"
     ]
    }
   ],
   "source": [
    "heat_flow_rate_above_50K = getTubeHeatFlowRate(42, 300, OD_above_50K, inner_radius_above_50K, length_above_50K, stainless_steel_thermal_conductivity)\n",
    "heat_load_above_50K = heat_flow_rate_above_50K*evaporation_time_above_50K\n",
    "print(heat_load_above_50K) #W"
   ]
  },
  {
   "cell_type": "code",
   "execution_count": 77,
   "id": "472df6cc",
   "metadata": {},
   "outputs": [
    {
     "name": "stdout",
     "output_type": "stream",
     "text": [
      "11.575712139822404\n"
     ]
    }
   ],
   "source": [
    "heat_flow_rate_4K_50K = getTubeHeatFlowRate(3, 42, OD_below_50K, inner_radius_below_50K, length_below_50K/4, stainless_steel_thermal_conductivity)\n",
    "heat_load_4K_50K = heat_flow_rate_4K_50K*evaporation_time_below_50K\n",
    "print(heat_load_4K_50K) #W"
   ]
  },
  {
   "cell_type": "code",
   "execution_count": 79,
   "id": "26868e43",
   "metadata": {},
   "outputs": [
    {
     "name": "stdout",
     "output_type": "stream",
     "text": [
      "0.623307576759668\n"
     ]
    }
   ],
   "source": [
    "heat_flow_rate_still_4K = getTubeHeatFlowRate(0.9, 3, OD_below_50K, inner_radius_below_50K, length_below_50K/4, stainless_steel_thermal_conductivity)\n",
    "heat_load_still_4K = heat_flow_rate_still_4K*evaporation_time_below_50K\n",
    "print(heat_load_still_4K)"
   ]
  },
  {
   "cell_type": "code",
   "execution_count": 80,
   "id": "62fd7c68",
   "metadata": {},
   "outputs": [
    {
     "name": "stdout",
     "output_type": "stream",
     "text": [
      "0.2433867680680608\n"
     ]
    }
   ],
   "source": [
    "heat_flow_rate_cold_still = getTubeHeatFlowRate(0.08, 0.9, OD_below_50K, inner_radius_below_50K, length_below_50K/4, stainless_steel_thermal_conductivity)\n",
    "heat_load_cold_still = heat_flow_rate_cold_still*evaporation_time_below_50K\n",
    "print(heat_load_cold_still)"
   ]
  },
  {
   "cell_type": "code",
   "execution_count": 81,
   "id": "b66adbf6",
   "metadata": {},
   "outputs": [
    {
     "name": "stdout",
     "output_type": "stream",
     "text": [
      "0.017808787907419084\n"
     ]
    }
   ],
   "source": [
    "heat_flow_rate_MXC_cold = getTubeHeatFlowRate(0.02,0.08, OD_below_50K, inner_radius_below_50K, length_below_50K/4, stainless_steel_thermal_conductivity)\n",
    "heat_load_MXC_cold = heat_flow_rate_MXC_cold*evaporation_time_below_50K\n",
    "print(heat_load_MXC_cold)"
   ]
  },
  {
   "cell_type": "code",
   "execution_count": 82,
   "id": "88cd368f",
   "metadata": {},
   "outputs": [
    {
     "name": "stdout",
     "output_type": "stream",
     "text": [
      "18.220103335543552\n"
     ]
    }
   ],
   "source": [
    "#total heat load in W\n",
    "print(sum([heat_load_above_50K,heat_load_4K_50K,heat_load_still_4K,heat_load_cold_still,heat_load_MXC_cold]))"
   ]
  },
  {
   "cell_type": "code",
   "execution_count": null,
   "id": "f62ef382",
   "metadata": {},
   "outputs": [],
   "source": []
  }
 ],
 "metadata": {
  "kernelspec": {
   "display_name": "Python 3",
   "language": "python",
   "name": "python3"
  },
  "language_info": {
   "codemirror_mode": {
    "name": "ipython",
    "version": 3
   },
   "file_extension": ".py",
   "mimetype": "text/x-python",
   "name": "python",
   "nbconvert_exporter": "python",
   "pygments_lexer": "ipython3",
   "version": "3.7.10"
  }
 },
 "nbformat": 4,
 "nbformat_minor": 5
}
