{
 "cells": [
  {
   "cell_type": "code",
   "execution_count": 3,
   "id": "a2f81d31",
   "metadata": {},
   "outputs": [],
   "source": [
    "import numpy as np"
   ]
  },
  {
   "cell_type": "markdown",
   "id": "9c30e863",
   "metadata": {},
   "source": [
    "# Variables"
   ]
  },
  {
   "cell_type": "markdown",
   "id": "8b668e66",
   "metadata": {},
   "source": [
    "Helium viscosity from 2K to 5K: https://royalsocietypublishing.org/doi/10.1098/rspa.1950.0181\n",
    "\n",
    "Gas helium viscosity: https://pressbooks.uiowa.edu/clonedbook/chapter/viscosity-and-laminar-flow-poiseuilles-law/#import-auto-id3073392\n",
    "\n",
    "Stainless steel thermal conductivity: https://thermtest.com/thermal-conductivity-of-steel"
   ]
  },
  {
   "cell_type": "code",
   "execution_count": 143,
   "id": "5b50c6e8",
   "metadata": {},
   "outputs": [],
   "source": [
    "OD_above_50K = 0.25*0.0254 #m\n",
    "OD_below_50K = 0.125*0.0254 #m\n",
    "\n",
    "thickness_above_50K = (0.25-0.18)*0.0254/2 #m, capillary wall thickness\n",
    "thickness_below_50K = (0.125-0.085)*0.0254/2 #m, capillary wall thickness\n",
    "\n",
    "length_above_50K = 10*0.0254 #m\n",
    "length_below_50K = 4*20*0.0254 #m\n",
    "\n",
    "pressure_warm_end_condensation = 1*10**5 #Pa\n",
    "pressure_cold_end_condensation = 0.25*10**5 #Pa, approximation\n",
    "pressure_50K_condensation = 0.5*10**5 #Pa, approximation. By ideal gas law: pressure_warm_end*42/300\n",
    "\n",
    "pressure_warm_end_evaporation = 0.01*10**5 #Pa\n",
    "pressure_cold_end_evaporation = 0.25*10**5 #Pa, approximation\n",
    "pressure_50K_evaporation = 0.05*10**5 #Pa, approximation. By ideal gas law: pressure_warm_end*42/300\n",
    "\n",
    "viscosity_gas = 0.0196*10**(-3) #Pa*s, https://pressbooks.uiowa.edu/clonedbook/chapter/viscosity-and-laminar-flow-poiseuilles-law/#import-auto-id3073392\n",
    "viscosity_liquid = 0.03*10**(-3) #Pa*s, https://royalsocietypublishing.org/doi/epdf/10.1098/rspa.1950.0181\n",
    "\n",
    "stainless_steel_thermal_conductivity = 15*10**(-3) #W/K, https://thermtest.com/thermal-conductivity-of-steel\n",
    "\n",
    "helium_volume = 0.1 #m^3, approximation"
   ]
  },
  {
   "cell_type": "markdown",
   "id": "2da7c468",
   "metadata": {},
   "source": [
    "Poiseuille's Law: https://pressbooks.uiowa.edu/clonedbook/chapter/viscosity-and-laminar-flow-poiseuilles-law/"
   ]
  },
  {
   "cell_type": "code",
   "execution_count": 13,
   "id": "84f53e81",
   "metadata": {},
   "outputs": [],
   "source": [
    "#radius is the inner radius\n",
    "def getTubeVolmeFlowRate(viscosity, startPressure, endPressure, length, radius):\n",
    "    R = 8*viscosity*length/(np.pi*(radius**4))\n",
    "    return (startPressure-endPressure)/R"
   ]
  },
  {
   "cell_type": "markdown",
   "id": "824c77f6",
   "metadata": {},
   "source": [
    "Fourier's law of heat conduction for cylinders, page 8 on https://www.sfu.ca/~mbahrami/ENSC%20388/Notes/Staedy%20Conduction%20Heat%20Transfer.pdf"
   ]
  },
  {
   "cell_type": "code",
   "execution_count": 9,
   "id": "b37de115",
   "metadata": {},
   "outputs": [],
   "source": [
    "def getTubeHeatFlowRate(outerTemperature, innerTemperature, outerRadius, innerRadius, length, thermalConductivity):\n",
    "    R = (outerRadius - innerRadius)/(4*np.pi*innerRadius*outerRadius*thermalConductivity)\n",
    "    return (innerTemperature - outerTemperature)/R"
   ]
  },
  {
   "cell_type": "markdown",
   "id": "e439d9ec",
   "metadata": {},
   "source": [
    "# Gas throughput"
   ]
  },
  {
   "cell_type": "markdown",
   "id": "53fab882",
   "metadata": {},
   "source": [
    "## Condensation time"
   ]
  },
  {
   "cell_type": "code",
   "execution_count": 144,
   "id": "a8e2acb6",
   "metadata": {},
   "outputs": [
    {
     "name": "stdout",
     "output_type": "stream",
     "text": [
      "0.10770726704988587\n",
      "0.9284424601887248\n"
     ]
    }
   ],
   "source": [
    "inner_radius_above_50K = OD_above_50K/2 - thickness_above_50K\n",
    "condensation_volume_flow_rate_above_50K = getTubeVolmeFlowRate(viscosity_gas,pressure_warm_end_condensation,pressure_50K_condensation,length_above_50K,inner_radius_above_50K)\n",
    "condensation_time_above_50K = helium_volume/condensation_volume_flow_rate_above_50K\n",
    "print(condensation_volume_flow_rate_above_50K)\n",
    "print(condensation_time_above_50K) #in seconds"
   ]
  },
  {
   "cell_type": "code",
   "execution_count": 145,
   "id": "38a04a53",
   "metadata": {},
   "outputs": [
    {
     "name": "stdout",
     "output_type": "stream",
     "text": [
      "0.005355878159813628\n",
      "298.73719159729285\n"
     ]
    }
   ],
   "source": [
    "inner_radius_below_50K = OD_below_50K/2 - thickness_below_50K\n",
    "condensation_volume_flow_rate_below_50K = getTubeVolmeFlowRate(viscosity_gas,pressure_50K_condensation,pressure_cold_end_condensation,length_below_50K,inner_radius_below_50K)\n",
    "condensation_time_below_50K = helium_volume/condensation_volume_flow_rate_below_50K\n",
    "print(volume_flow_rate_below_50K)\n",
    "print(condensation_time_below_50K) #in seconds"
   ]
  },
  {
   "cell_type": "markdown",
   "id": "2c447561",
   "metadata": {},
   "source": [
    "The condensation time will be limited by the section below the 50K plate, which is 298 seconds."
   ]
  },
  {
   "cell_type": "markdown",
   "id": "ae821c96",
   "metadata": {},
   "source": [
    "## Evaporation time"
   ]
  },
  {
   "cell_type": "code",
   "execution_count": 146,
   "id": "c943d456",
   "metadata": {},
   "outputs": [
    {
     "name": "stdout",
     "output_type": "stream",
     "text": [
      "1.723316272798174\n",
      "11.605530752359059\n"
     ]
    }
   ],
   "source": [
    "inner_radius_above_50K = OD_above_50K/2 - thickness_above_50K\n",
    "evaporation_volume_flow_rate_above_50K = getTubeVolmeFlowRate(viscosity_gas,pressure_50K_evaporation,pressure_warm_end_evaporation,length_above_50K,inner_radius_above_50K)\n",
    "evaporation_time_above_50K = helium_volume/evaporation_volume_flow_rate_above_50K\n",
    "print(volume_flow_rate_above_50K)\n",
    "print(evaporation_time_above_50K) #in seconds"
   ]
  },
  {
   "cell_type": "code",
   "execution_count": 147,
   "id": "32e156a3",
   "metadata": {},
   "outputs": [
    {
     "name": "stdout",
     "output_type": "stream",
     "text": [
      "0.005355878159813628\n",
      "373.42148949661606\n"
     ]
    }
   ],
   "source": [
    "inner_radius_below_50K = OD_below_50K/2 - thickness_below_50K\n",
    "evaporation_volume_flow_rate_below_50K = getTubeVolmeFlowRate(viscosity_gas,pressure_cold_end_evaporation,pressure_50K_evaporation,length_below_50K,inner_radius_below_50K)\n",
    "evaporation_time_below_50K = helium_volume/evaporation_volume_flow_rate_below_50K\n",
    "print(volume_flow_rate_below_50K)\n",
    "print(evaporation_time_below_50K) #in seconds"
   ]
  },
  {
   "cell_type": "markdown",
   "id": "8900cb79",
   "metadata": {},
   "source": [
    "The evaporation time will be limited by the section below the 50K plate, which is 373 seconds."
   ]
  },
  {
   "cell_type": "markdown",
   "id": "fa2d2a4f",
   "metadata": {},
   "source": [
    "# Heat Load"
   ]
  },
  {
   "cell_type": "code",
   "execution_count": 148,
   "id": "10293a2f",
   "metadata": {},
   "outputs": [
    {
     "name": "stdout",
     "output_type": "stream",
     "text": [
      "4.607910450388801\n"
     ]
    }
   ],
   "source": [
    "heat_flow_rate_above_50K = getTubeHeatFlowRate(42, 300, OD_above_50K/2, inner_radius_above_50K, length_above_50K, stainless_steel_thermal_conductivity)\n",
    "heat_load_above_50K = heat_flow_rate_above_50K*evaporation_time_above_50K\n",
    "print(heat_load_above_50K) #W"
   ]
  },
  {
   "cell_type": "code",
   "execution_count": 149,
   "id": "a5695767",
   "metadata": {},
   "outputs": [
    {
     "name": "stdout",
     "output_type": "stream",
     "text": [
      "9.260569711857924\n"
     ]
    }
   ],
   "source": [
    "heat_flow_rate_4K_50K = getTubeHeatFlowRate(3, 42, OD_below_50K/2, inner_radius_below_50K, length_below_50K/4, stainless_steel_thermal_conductivity)\n",
    "heat_load_4K_50K = heat_flow_rate_4K_50K*evaporation_time_below_50K\n",
    "print(heat_load_4K_50K) #W"
   ]
  },
  {
   "cell_type": "code",
   "execution_count": 150,
   "id": "e12ee12e",
   "metadata": {},
   "outputs": [
    {
     "name": "stdout",
     "output_type": "stream",
     "text": [
      "0.49864606140773443\n"
     ]
    }
   ],
   "source": [
    "heat_flow_rate_still_4K = getTubeHeatFlowRate(0.9, 3, OD_below_50K/2, inner_radius_below_50K, length_below_50K/4, stainless_steel_thermal_conductivity)\n",
    "heat_load_still_4K = heat_flow_rate_still_4K*evaporation_time_below_50K\n",
    "print(heat_load_still_4K)"
   ]
  },
  {
   "cell_type": "code",
   "execution_count": 151,
   "id": "7011f503",
   "metadata": {},
   "outputs": [
    {
     "name": "stdout",
     "output_type": "stream",
     "text": [
      "0.19470941445444867\n"
     ]
    }
   ],
   "source": [
    "heat_flow_rate_cold_still = getTubeHeatFlowRate(0.08, 0.9, OD_below_50K/2, inner_radius_below_50K, length_below_50K/4, stainless_steel_thermal_conductivity)\n",
    "heat_load_cold_still = heat_flow_rate_cold_still*evaporation_time_below_50K\n",
    "print(heat_load_cold_still)"
   ]
  },
  {
   "cell_type": "code",
   "execution_count": 152,
   "id": "90d2db73",
   "metadata": {},
   "outputs": [
    {
     "name": "stdout",
     "output_type": "stream",
     "text": [
      "0.014247030325935267\n"
     ]
    }
   ],
   "source": [
    "heat_flow_rate_MXC_cold = getTubeHeatFlowRate(0.02,0.08, OD_below_50K/2, inner_radius_below_50K, length_below_50K/4, stainless_steel_thermal_conductivity)\n",
    "heat_load_MXC_cold = heat_flow_rate_MXC_cold*evaporation_time_below_50K\n",
    "print(heat_load_MXC_cold)"
   ]
  },
  {
   "cell_type": "code",
   "execution_count": 153,
   "id": "9a063094",
   "metadata": {},
   "outputs": [
    {
     "name": "stdout",
     "output_type": "stream",
     "text": [
      "14.576082668434845\n"
     ]
    }
   ],
   "source": [
    "#total heat load in W\n",
    "print(sum([heat_load_above_50K,heat_load_4K_50K,heat_load_still_4K,heat_load_cold_still,heat_load_MXC_cold]))"
   ]
  },
  {
   "cell_type": "markdown",
   "id": "76279817",
   "metadata": {},
   "source": [
    "# Alternative radius choice for the section below 50 K"
   ]
  },
  {
   "cell_type": "code",
   "execution_count": 154,
   "id": "66219d86",
   "metadata": {},
   "outputs": [],
   "source": [
    "OD_below_50K = 0.0625*0.0254 #m\n",
    "thickness_below_50K = (0.0625-0.0425)*0.0254/2 #m, capillary wall thickness"
   ]
  },
  {
   "cell_type": "markdown",
   "id": "2cc4554f",
   "metadata": {},
   "source": [
    "# Gas throughput"
   ]
  },
  {
   "cell_type": "markdown",
   "id": "7e9dea32",
   "metadata": {},
   "source": [
    "## Condensation time"
   ]
  },
  {
   "cell_type": "code",
   "execution_count": 155,
   "id": "eb29a02a",
   "metadata": {},
   "outputs": [
    {
     "name": "stdout",
     "output_type": "stream",
     "text": [
      "0.10770726704988587\n",
      "0.9284424601887248\n"
     ]
    }
   ],
   "source": [
    "inner_radius_above_50K = OD_above_50K/2 - thickness_above_50K\n",
    "condensation_volume_flow_rate_above_50K = getTubeVolmeFlowRate(viscosity_gas,pressure_warm_end_condensation,pressure_50K_condensation,length_above_50K,inner_radius_above_50K)\n",
    "condensation_time_above_50K = helium_volume/condensation_volume_flow_rate_above_50K\n",
    "print(condensation_volume_flow_rate_above_50K)\n",
    "print(condensation_time_above_50K) #in seconds"
   ]
  },
  {
   "cell_type": "code",
   "execution_count": 156,
   "id": "0853e1ba",
   "metadata": {},
   "outputs": [
    {
     "name": "stdout",
     "output_type": "stream",
     "text": [
      "0.005355878159813628\n",
      "4779.795065556686\n"
     ]
    }
   ],
   "source": [
    "inner_radius_below_50K = OD_below_50K/2 - thickness_below_50K\n",
    "condensation_volume_flow_rate_below_50K = getTubeVolmeFlowRate(viscosity_gas,pressure_50K_condensation,pressure_cold_end_condensation,length_below_50K,inner_radius_below_50K)\n",
    "condensation_time_below_50K = helium_volume/condensation_volume_flow_rate_below_50K\n",
    "print(volume_flow_rate_below_50K)\n",
    "print(condensation_time_below_50K) #in seconds"
   ]
  },
  {
   "cell_type": "markdown",
   "id": "3aac3070",
   "metadata": {},
   "source": [
    "The condensation time will be limited by the section below the 50K plate, which is 4779 seconds."
   ]
  },
  {
   "cell_type": "markdown",
   "id": "adcca17b",
   "metadata": {},
   "source": [
    "## Evaporation time"
   ]
  },
  {
   "cell_type": "code",
   "execution_count": 157,
   "id": "ce1acaa0",
   "metadata": {},
   "outputs": [
    {
     "name": "stdout",
     "output_type": "stream",
     "text": [
      "1.723316272798174\n",
      "11.605530752359059\n"
     ]
    }
   ],
   "source": [
    "inner_radius_above_50K = OD_above_50K/2 - thickness_above_50K\n",
    "evaporation_volume_flow_rate_above_50K = getTubeVolmeFlowRate(viscosity_gas,pressure_50K_evaporation,pressure_warm_end_evaporation,length_above_50K,inner_radius_above_50K)\n",
    "evaporation_time_above_50K = helium_volume/evaporation_volume_flow_rate_above_50K\n",
    "print(volume_flow_rate_above_50K)\n",
    "print(evaporation_time_above_50K) #in seconds"
   ]
  },
  {
   "cell_type": "code",
   "execution_count": 158,
   "id": "0b0baf49",
   "metadata": {},
   "outputs": [
    {
     "name": "stdout",
     "output_type": "stream",
     "text": [
      "0.005355878159813628\n",
      "5974.743831945857\n"
     ]
    }
   ],
   "source": [
    "inner_radius_below_50K = OD_below_50K/2 - thickness_below_50K\n",
    "evaporation_volume_flow_rate_below_50K = getTubeVolmeFlowRate(viscosity_gas,pressure_cold_end_evaporation,pressure_50K_evaporation,length_below_50K,inner_radius_below_50K)\n",
    "evaporation_time_below_50K = helium_volume/evaporation_volume_flow_rate_below_50K\n",
    "print(volume_flow_rate_below_50K)\n",
    "print(evaporation_time_below_50K) #in seconds"
   ]
  },
  {
   "cell_type": "markdown",
   "id": "2ea4ccce",
   "metadata": {},
   "source": [
    "The evaporation time will be limited by the section below the 50K plate, which is 5974 seconds."
   ]
  },
  {
   "cell_type": "markdown",
   "id": "38e56bca",
   "metadata": {},
   "source": [
    "# Heat Load"
   ]
  },
  {
   "cell_type": "code",
   "execution_count": 159,
   "id": "a6f1b255",
   "metadata": {},
   "outputs": [
    {
     "name": "stdout",
     "output_type": "stream",
     "text": [
      "4.607910450388801\n"
     ]
    }
   ],
   "source": [
    "heat_flow_rate_above_50K = getTubeHeatFlowRate(42, 300, OD_above_50K/2, inner_radius_above_50K, length_above_50K, stainless_steel_thermal_conductivity)\n",
    "heat_load_above_50K = heat_flow_rate_above_50K*evaporation_time_above_50K\n",
    "print(heat_load_above_50K) #W"
   ]
  },
  {
   "cell_type": "code",
   "execution_count": 160,
   "id": "e0fa1dc6",
   "metadata": {},
   "outputs": [
    {
     "name": "stdout",
     "output_type": "stream",
     "text": [
      "74.08455769486339\n"
     ]
    }
   ],
   "source": [
    "heat_flow_rate_4K_50K = getTubeHeatFlowRate(3, 42, OD_below_50K/2, inner_radius_below_50K, length_below_50K/4, stainless_steel_thermal_conductivity)\n",
    "heat_load_4K_50K = heat_flow_rate_4K_50K*evaporation_time_below_50K\n",
    "print(heat_load_4K_50K) #W"
   ]
  },
  {
   "cell_type": "code",
   "execution_count": 161,
   "id": "c9a36b54",
   "metadata": {},
   "outputs": [
    {
     "name": "stdout",
     "output_type": "stream",
     "text": [
      "3.9891684912618754\n"
     ]
    }
   ],
   "source": [
    "heat_flow_rate_still_4K = getTubeHeatFlowRate(0.9, 3, OD_below_50K/2, inner_radius_below_50K, length_below_50K/4, stainless_steel_thermal_conductivity)\n",
    "heat_load_still_4K = heat_flow_rate_still_4K*evaporation_time_below_50K\n",
    "print(heat_load_still_4K)"
   ]
  },
  {
   "cell_type": "code",
   "execution_count": 162,
   "id": "589e20d6",
   "metadata": {},
   "outputs": [
    {
     "name": "stdout",
     "output_type": "stream",
     "text": [
      "1.5576753156355894\n"
     ]
    }
   ],
   "source": [
    "heat_flow_rate_cold_still = getTubeHeatFlowRate(0.08, 0.9, OD_below_50K/2, inner_radius_below_50K, length_below_50K/4, stainless_steel_thermal_conductivity)\n",
    "heat_load_cold_still = heat_flow_rate_cold_still*evaporation_time_below_50K\n",
    "print(heat_load_cold_still)"
   ]
  },
  {
   "cell_type": "code",
   "execution_count": 163,
   "id": "036b2398",
   "metadata": {},
   "outputs": [
    {
     "name": "stdout",
     "output_type": "stream",
     "text": [
      "0.11397624260748214\n"
     ]
    }
   ],
   "source": [
    "heat_flow_rate_MXC_cold = getTubeHeatFlowRate(0.02,0.08, OD_below_50K/2, inner_radius_below_50K, length_below_50K/4, stainless_steel_thermal_conductivity)\n",
    "heat_load_MXC_cold = heat_flow_rate_MXC_cold*evaporation_time_below_50K\n",
    "print(heat_load_MXC_cold)"
   ]
  },
  {
   "cell_type": "code",
   "execution_count": 164,
   "id": "72058752",
   "metadata": {},
   "outputs": [
    {
     "name": "stdout",
     "output_type": "stream",
     "text": [
      "84.35328819475714\n"
     ]
    }
   ],
   "source": [
    "#total heat load in W\n",
    "print(sum([heat_load_above_50K,heat_load_4K_50K,heat_load_still_4K,heat_load_cold_still,heat_load_MXC_cold]))"
   ]
  },
  {
   "cell_type": "code",
   "execution_count": null,
   "id": "10163a36",
   "metadata": {},
   "outputs": [],
   "source": []
  }
 ],
 "metadata": {
  "kernelspec": {
   "display_name": "Python 3",
   "language": "python",
   "name": "python3"
  },
  "language_info": {
   "codemirror_mode": {
    "name": "ipython",
    "version": 3
   },
   "file_extension": ".py",
   "mimetype": "text/x-python",
   "name": "python",
   "nbconvert_exporter": "python",
   "pygments_lexer": "ipython3",
   "version": "3.7.10"
  }
 },
 "nbformat": 4,
 "nbformat_minor": 5
}
