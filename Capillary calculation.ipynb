{
 "cells": [
  {
   "cell_type": "code",
   "execution_count": 3,
   "id": "9ce2abac",
   "metadata": {},
   "outputs": [],
   "source": [
    "import numpy as np"
   ]
  },
  {
   "cell_type": "markdown",
   "id": "d85f2c61",
   "metadata": {},
   "source": [
    "# Variables"
   ]
  },
  {
   "cell_type": "markdown",
   "id": "f00cfb4a",
   "metadata": {},
   "source": [
    "Helium viscosity from 2K to 5K: https://royalsocietypublishing.org/doi/10.1098/rspa.1950.0181\n",
    "\n",
    "Gas helium viscosity: https://pressbooks.uiowa.edu/clonedbook/chapter/viscosity-and-laminar-flow-poiseuilles-law/#import-auto-id3073392\n",
    "\n",
    "Stainless steel thermal conductivity: https://thermtest.com/thermal-conductivity-of-steel"
   ]
  },
  {
   "cell_type": "code",
   "execution_count": 227,
   "id": "95c317ed",
   "metadata": {},
   "outputs": [],
   "source": [
    "OD_above_50K = 0.25*0.0254 #m\n",
    "OD_below_50K = 0.125*0.0254 #m\n",
    "\n",
    "thickness_above_50K = (0.25-0.18)*0.0254/2 #m, capillary wall thickness\n",
    "thickness_below_50K = (0.125-0.085)*0.0254/2 #m, capillary wall thickness\n",
    "\n",
    "length_above_50K = 10*0.0254 #m\n",
    "length_below_50K = 4*20*0.0254 #m\n",
    "length_still_50K = 2*20*0.0254 #m\n",
    "\n",
    "pressure_warm_end_condensation = 1*10**5 #Pa\n",
    "pressure_cold_end_condensation = 0.25*10**5 #Pa, approximation\n",
    "pressure_50K_condensation = 0.5*10**5 #Pa, approximation. By ideal gas law: pressure_warm_end*42/300\n",
    "\n",
    "pressure_warm_end_evaporation = 0.01*10**5 #Pa\n",
    "pressure_cold_end_evaporation = 0.25*10**5 #Pa, approximation\n",
    "pressure_50K_evaporation = 0.05*10**5 #Pa, approximation. By ideal gas law: pressure_warm_end*42/300\n",
    "\n",
    "viscosity_gas = 0.0196*10**(-3) #Pa*s, https://pressbooks.uiowa.edu/clonedbook/chapter/viscosity-and-laminar-flow-poiseuilles-law/#import-auto-id3073392\n",
    "viscosity_liquid = 0.03*10**(-3) #Pa*s, https://royalsocietypublishing.org/doi/epdf/10.1098/rspa.1950.0181\n",
    "\n",
    "stainless_steel_thermal_conductivity = 15*10**(-3) #W/K, https://thermtest.com/thermal-conductivity-of-steel\n",
    "\n",
    "helium_volume = 0.1 #m^3, approximation"
   ]
  },
  {
   "cell_type": "markdown",
   "id": "c70190e3",
   "metadata": {},
   "source": [
    "Poiseuille's Law: https://pressbooks.uiowa.edu/clonedbook/chapter/viscosity-and-laminar-flow-poiseuilles-law/"
   ]
  },
  {
   "cell_type": "code",
   "execution_count": 13,
   "id": "1f24eb55",
   "metadata": {},
   "outputs": [],
   "source": [
    "#radius is the inner radius\n",
    "def getTubeVolmeFlowRate(viscosity, startPressure, endPressure, length, radius):\n",
    "    R = 8*viscosity*length/(np.pi*(radius**4))\n",
    "    return (startPressure-endPressure)/R"
   ]
  },
  {
   "cell_type": "markdown",
   "id": "a5d8ea9f",
   "metadata": {},
   "source": [
    "Fourier's law of heat conduction for cylinders, page 7 on https://www.sfu.ca/~mbahrami/ENSC%20388/Notes/Staedy%20Conduction%20Heat%20Transfer.pdf"
   ]
  },
  {
   "cell_type": "code",
   "execution_count": 177,
   "id": "291c548c",
   "metadata": {},
   "outputs": [],
   "source": [
    "def getTubeHeatFlowRate(outerTemperature, innerTemperature, outerRadius, innerRadius, length, thermalConductivity):\n",
    "    R = np.log(outerRadius/innerRadius)/(2*np.pi*thermalConductivity*length)\n",
    "    return (innerTemperature - outerTemperature)/R"
   ]
  },
  {
   "cell_type": "code",
   "execution_count": 180,
   "id": "0bd815c2",
   "metadata": {},
   "outputs": [],
   "source": [
    "#1D linear temperature gradient\n",
    "def getHeatLoad(outerTemperature, innerTemperature, outerRadius, innerRadius, length, thermalConductivity, time):\n",
    "    step_num = 100\n",
    "    temp_difference = innerTemperature - outerTemperature\n",
    "    heat_load = 0 #initialization\n",
    "    for i in range(step_num):\n",
    "        innerTemperature_current = innerTemperature-i*temp_difference/step_num\n",
    "        heatFlowRate = getTubeHeatFlowRate(outerTemperature, innerTemperature_current, outerRadius, innerRadius, length/step_num, thermalConductivity)\n",
    "        heat_load = heat_load+heatFlowRate*time\n",
    "        \n",
    "    return heat_load #in W"
   ]
  },
  {
   "cell_type": "markdown",
   "id": "2004750e",
   "metadata": {},
   "source": [
    "# Gas throughput"
   ]
  },
  {
   "cell_type": "markdown",
   "id": "d59a5ab2",
   "metadata": {},
   "source": [
    "## Condensation time"
   ]
  },
  {
   "cell_type": "code",
   "execution_count": 228,
   "id": "e2bad7be",
   "metadata": {},
   "outputs": [
    {
     "name": "stdout",
     "output_type": "stream",
     "text": [
      "0.10770726704988587\n",
      "0.9284424601887248\n"
     ]
    }
   ],
   "source": [
    "inner_radius_above_50K = OD_above_50K/2 - thickness_above_50K\n",
    "condensation_volume_flow_rate_above_50K = getTubeVolmeFlowRate(viscosity_gas,pressure_warm_end_condensation,pressure_50K_condensation,length_above_50K,inner_radius_above_50K)\n",
    "condensation_time_above_50K = helium_volume/condensation_volume_flow_rate_above_50K\n",
    "print(condensation_volume_flow_rate_above_50K)\n",
    "print(condensation_time_above_50K) #in seconds"
   ]
  },
  {
   "cell_type": "code",
   "execution_count": 229,
   "id": "2ab82121",
   "metadata": {},
   "outputs": [
    {
     "name": "stdout",
     "output_type": "stream",
     "text": [
      "0.005355878159813628\n",
      "149.36859579864642\n"
     ]
    }
   ],
   "source": [
    "inner_radius_below_50K = OD_below_50K/2 - thickness_below_50K\n",
    "condensation_volume_flow_rate_below_50K = getTubeVolmeFlowRate(viscosity_gas,pressure_50K_condensation,pressure_cold_end_condensation,length_still_50K,inner_radius_below_50K)\n",
    "condensation_time_below_50K = helium_volume/condensation_volume_flow_rate_below_50K\n",
    "print(volume_flow_rate_below_50K)\n",
    "print(condensation_time_below_50K) #in seconds"
   ]
  },
  {
   "cell_type": "markdown",
   "id": "666591f4",
   "metadata": {},
   "source": [
    "The condensation time will be limited by the section below the 50K plate, which is 149 seconds."
   ]
  },
  {
   "cell_type": "markdown",
   "id": "ef054d5d",
   "metadata": {},
   "source": [
    "## Evaporation time"
   ]
  },
  {
   "cell_type": "code",
   "execution_count": 193,
   "id": "5643fe3d",
   "metadata": {},
   "outputs": [
    {
     "name": "stdout",
     "output_type": "stream",
     "text": [
      "1.723316272798174\n",
      "11.605530752359059\n"
     ]
    }
   ],
   "source": [
    "inner_radius_above_50K = OD_above_50K/2 - thickness_above_50K\n",
    "evaporation_volume_flow_rate_above_50K = getTubeVolmeFlowRate(viscosity_gas,pressure_50K_evaporation,pressure_warm_end_evaporation,length_above_50K,inner_radius_above_50K)\n",
    "evaporation_time_above_50K = helium_volume/evaporation_volume_flow_rate_above_50K\n",
    "print(volume_flow_rate_above_50K)\n",
    "print(evaporation_time_above_50K) #in seconds"
   ]
  },
  {
   "cell_type": "code",
   "execution_count": 194,
   "id": "c68f1443",
   "metadata": {},
   "outputs": [
    {
     "name": "stdout",
     "output_type": "stream",
     "text": [
      "0.005355878159813628\n",
      "373.42148949661606\n"
     ]
    }
   ],
   "source": [
    "inner_radius_below_50K = OD_below_50K/2 - thickness_below_50K\n",
    "evaporation_volume_flow_rate_below_50K = getTubeVolmeFlowRate(viscosity_gas,pressure_cold_end_evaporation,pressure_50K_evaporation,length_below_50K,inner_radius_below_50K)\n",
    "evaporation_time_below_50K = helium_volume/evaporation_volume_flow_rate_below_50K\n",
    "print(volume_flow_rate_below_50K)\n",
    "print(evaporation_time_below_50K) #in seconds"
   ]
  },
  {
   "cell_type": "markdown",
   "id": "5da397c5",
   "metadata": {},
   "source": [
    "The evaporation time will be limited by the section below the 50K plate, which is 373 seconds."
   ]
  },
  {
   "cell_type": "markdown",
   "id": "a57a729f",
   "metadata": {},
   "source": [
    "# Heat Load (unit in W)"
   ]
  },
  {
   "cell_type": "code",
   "execution_count": 242,
   "id": "f618442a",
   "metadata": {},
   "outputs": [
    {
     "name": "stdout",
     "output_type": "stream",
     "text": [
      "8.815159427815694\n"
     ]
    }
   ],
   "source": [
    "heat_flow_rate_above_50K = getHeatLoad(42, 300, OD_above_50K/2, inner_radius_above_50K, length_above_50K, stainless_steel_thermal_conductivity,condensation_time_above_50K)\n",
    "print(heat_flow_rate_above_50K)"
   ]
  },
  {
   "cell_type": "code",
   "execution_count": 243,
   "id": "f89071f4",
   "metadata": {},
   "outputs": [
    {
     "name": "stdout",
     "output_type": "stream",
     "text": [
      "365.2100604312503\n"
     ]
    }
   ],
   "source": [
    "heat_flow_rate_4K_50K = getHeatLoad(3, 42, OD_below_50K/2, inner_radius_below_50K, length_below_50K/4, stainless_steel_thermal_conductivity,condensation_time_below_50K)\n",
    "print(heat_flow_rate_4K_50K)"
   ]
  },
  {
   "cell_type": "code",
   "execution_count": 244,
   "id": "d51c5981",
   "metadata": {},
   "outputs": [
    {
     "name": "stdout",
     "output_type": "stream",
     "text": [
      "19.665157100144253\n"
     ]
    }
   ],
   "source": [
    "heat_flow_rate_still_4K = getHeatLoad(0.9, 3, OD_below_50K/2, inner_radius_below_50K, length_below_50K/4, stainless_steel_thermal_conductivity,condensation_time_below_50K)\n",
    "print(heat_flow_rate_still_4K)"
   ]
  },
  {
   "cell_type": "code",
   "execution_count": 245,
   "id": "d468e603",
   "metadata": {},
   "outputs": [
    {
     "name": "stdout",
     "output_type": "stream",
     "text": [
      "7.678775629580137\n"
     ]
    }
   ],
   "source": [
    "heat_flow_rate_cold_still = getHeatLoad(0.08, 0.9, OD_below_50K/2, inner_radius_below_50K, length_below_50K/4, stainless_steel_thermal_conductivity,condensation_time_below_50K)\n",
    "print(heat_flow_rate_cold_still)"
   ]
  },
  {
   "cell_type": "code",
   "execution_count": 246,
   "id": "353c99da",
   "metadata": {},
   "outputs": [
    {
     "name": "stdout",
     "output_type": "stream",
     "text": [
      "0.5618616314326929\n"
     ]
    }
   ],
   "source": [
    "heat_flow_rate_MXC_cold = getHeatLoad(0.02,0.08, OD_below_50K/2, inner_radius_below_50K, length_below_50K/4, stainless_steel_thermal_conductivity,condensation_time_below_50K)\n",
    "print(heat_flow_rate_MXC_cold)"
   ]
  },
  {
   "cell_type": "code",
   "execution_count": 247,
   "id": "47f2313b",
   "metadata": {},
   "outputs": [
    {
     "name": "stdout",
     "output_type": "stream",
     "text": [
      "401.93101422022306\n"
     ]
    }
   ],
   "source": [
    "#total heat load in W\n",
    "print(sum([heat_flow_rate_above_50K,heat_flow_rate_4K_50K,heat_flow_rate_still_4K,heat_flow_rate_cold_still,heat_flow_rate_MXC_cold]))"
   ]
  },
  {
   "cell_type": "markdown",
   "id": "2f380385",
   "metadata": {},
   "source": [
    "# Alternative radius choice for the section below 50 K"
   ]
  },
  {
   "cell_type": "code",
   "execution_count": 248,
   "id": "0e34bd7a",
   "metadata": {},
   "outputs": [],
   "source": [
    "OD_below_50K = 0.0625*0.0254 #m\n",
    "thickness_below_50K = (0.0625-0.0425)*0.0254/2 #m, capillary wall thickness"
   ]
  },
  {
   "cell_type": "markdown",
   "id": "94f38f0c",
   "metadata": {},
   "source": [
    "# Gas throughput"
   ]
  },
  {
   "cell_type": "markdown",
   "id": "312056a9",
   "metadata": {},
   "source": [
    "## Condensation time"
   ]
  },
  {
   "cell_type": "code",
   "execution_count": 249,
   "id": "1e955d14",
   "metadata": {},
   "outputs": [
    {
     "name": "stdout",
     "output_type": "stream",
     "text": [
      "0.10770726704988587\n",
      "0.9284424601887248\n"
     ]
    }
   ],
   "source": [
    "inner_radius_above_50K = OD_above_50K/2 - thickness_above_50K\n",
    "condensation_volume_flow_rate_above_50K = getTubeVolmeFlowRate(viscosity_gas,pressure_warm_end_condensation,pressure_50K_condensation,length_above_50K,inner_radius_above_50K)\n",
    "condensation_time_above_50K = helium_volume/condensation_volume_flow_rate_above_50K\n",
    "print(condensation_volume_flow_rate_above_50K)\n",
    "print(condensation_time_above_50K) #in seconds"
   ]
  },
  {
   "cell_type": "code",
   "execution_count": 250,
   "id": "4716ef72",
   "metadata": {},
   "outputs": [
    {
     "name": "stdout",
     "output_type": "stream",
     "text": [
      "0.005355878159813628\n",
      "2389.897532778343\n"
     ]
    }
   ],
   "source": [
    "inner_radius_below_50K = OD_below_50K/2 - thickness_below_50K\n",
    "condensation_volume_flow_rate_below_50K = getTubeVolmeFlowRate(viscosity_gas,pressure_50K_condensation,pressure_cold_end_condensation,length_still_50K,inner_radius_below_50K)\n",
    "condensation_time_below_50K = helium_volume/condensation_volume_flow_rate_below_50K\n",
    "print(volume_flow_rate_below_50K)\n",
    "print(condensation_time_below_50K) #in seconds"
   ]
  },
  {
   "cell_type": "markdown",
   "id": "42371e4e",
   "metadata": {},
   "source": [
    "The condensation time will be limited by the section below the 50K plate, which is 4780 seconds."
   ]
  },
  {
   "cell_type": "markdown",
   "id": "edd4fb0e",
   "metadata": {},
   "source": [
    "## Evaporation time"
   ]
  },
  {
   "cell_type": "code",
   "execution_count": 251,
   "id": "dfc19efc",
   "metadata": {},
   "outputs": [
    {
     "name": "stdout",
     "output_type": "stream",
     "text": [
      "1.723316272798174\n",
      "11.605530752359059\n"
     ]
    }
   ],
   "source": [
    "inner_radius_above_50K = OD_above_50K/2 - thickness_above_50K\n",
    "evaporation_volume_flow_rate_above_50K = getTubeVolmeFlowRate(viscosity_gas,pressure_50K_evaporation,pressure_warm_end_evaporation,length_above_50K,inner_radius_above_50K)\n",
    "evaporation_time_above_50K = helium_volume/evaporation_volume_flow_rate_above_50K\n",
    "print(volume_flow_rate_above_50K)\n",
    "print(evaporation_time_above_50K) #in seconds"
   ]
  },
  {
   "cell_type": "code",
   "execution_count": 252,
   "id": "f65aeb02",
   "metadata": {},
   "outputs": [
    {
     "name": "stdout",
     "output_type": "stream",
     "text": [
      "0.005355878159813628\n",
      "5974.743831945857\n"
     ]
    }
   ],
   "source": [
    "inner_radius_below_50K = OD_below_50K/2 - thickness_below_50K\n",
    "evaporation_volume_flow_rate_below_50K = getTubeVolmeFlowRate(viscosity_gas,pressure_cold_end_evaporation,pressure_50K_evaporation,length_below_50K,inner_radius_below_50K)\n",
    "evaporation_time_below_50K = helium_volume/evaporation_volume_flow_rate_below_50K\n",
    "print(volume_flow_rate_below_50K)\n",
    "print(evaporation_time_below_50K) #in seconds"
   ]
  },
  {
   "cell_type": "markdown",
   "id": "258e227b",
   "metadata": {},
   "source": [
    "The evaporation time will be limited by the section below the 50K plate, which is 5975 seconds."
   ]
  },
  {
   "cell_type": "markdown",
   "id": "3223ae68",
   "metadata": {},
   "source": [
    "# Heat Load"
   ]
  },
  {
   "cell_type": "code",
   "execution_count": 256,
   "id": "bf223706",
   "metadata": {},
   "outputs": [
    {
     "name": "stdout",
     "output_type": "stream",
     "text": [
      "8.815159427815694\n"
     ]
    }
   ],
   "source": [
    "heat_flow_rate_above_50K = getHeatLoad(42, 300, OD_above_50K/2, inner_radius_above_50K, length_above_50K, stainless_steel_thermal_conductivity,condensation_time_above_50K)\n",
    "print(heat_flow_rate_above_50K) #W"
   ]
  },
  {
   "cell_type": "code",
   "execution_count": 257,
   "id": "6fb6ea4b",
   "metadata": {},
   "outputs": [
    {
     "name": "stdout",
     "output_type": "stream",
     "text": [
      "5843.360966900005\n"
     ]
    }
   ],
   "source": [
    "heat_flow_rate_4K_50K = getHeatLoad(3, 42, OD_below_50K/2, inner_radius_below_50K, length_below_50K/4, stainless_steel_thermal_conductivity,condensation_time_below_50K)\n",
    "print(heat_flow_rate_4K_50K) #W"
   ]
  },
  {
   "cell_type": "code",
   "execution_count": 258,
   "id": "1b764388",
   "metadata": {},
   "outputs": [
    {
     "name": "stdout",
     "output_type": "stream",
     "text": [
      "314.64251360230804\n"
     ]
    }
   ],
   "source": [
    "heat_flow_rate_still_4K = getHeatLoad(0.9, 3, OD_below_50K/2, inner_radius_below_50K, length_below_50K/4, stainless_steel_thermal_conductivity,condensation_time_below_50K)\n",
    "print(heat_flow_rate_still_4K)"
   ]
  },
  {
   "cell_type": "code",
   "execution_count": 259,
   "id": "0f413e0e",
   "metadata": {},
   "outputs": [
    {
     "name": "stdout",
     "output_type": "stream",
     "text": [
      "122.8604100732822\n"
     ]
    }
   ],
   "source": [
    "heat_flow_rate_cold_still = getHeatLoad(0.08, 0.9, OD_below_50K/2, inner_radius_below_50K, length_below_50K/4, stainless_steel_thermal_conductivity,condensation_time_below_50K)\n",
    "print(heat_flow_rate_cold_still)"
   ]
  },
  {
   "cell_type": "code",
   "execution_count": 260,
   "id": "fbf32951",
   "metadata": {},
   "outputs": [
    {
     "name": "stdout",
     "output_type": "stream",
     "text": [
      "8.989786102923086\n"
     ]
    }
   ],
   "source": [
    "heat_flow_rate_MXC_cold = getHeatLoad(0.02,0.08, OD_below_50K/2, inner_radius_below_50K, length_below_50K/4, stainless_steel_thermal_conductivity,condensation_time_below_50K)\n",
    "print(heat_flow_rate_MXC_cold)"
   ]
  },
  {
   "cell_type": "code",
   "execution_count": 261,
   "id": "463004fb",
   "metadata": {},
   "outputs": [
    {
     "name": "stdout",
     "output_type": "stream",
     "text": [
      "6298.668836106334\n"
     ]
    }
   ],
   "source": [
    "#total heat load in W\n",
    "print(sum([heat_flow_rate_above_50K,heat_flow_rate_4K_50K,heat_flow_rate_still_4K,heat_flow_rate_cold_still,heat_flow_rate_MXC_cold]))"
   ]
  },
  {
   "cell_type": "code",
   "execution_count": null,
   "id": "cbd7378a",
   "metadata": {},
   "outputs": [],
   "source": []
  }
 ],
 "metadata": {
  "kernelspec": {
   "display_name": "Python 3",
   "language": "python",
   "name": "python3"
  },
  "language_info": {
   "codemirror_mode": {
    "name": "ipython",
    "version": 3
   },
   "file_extension": ".py",
   "mimetype": "text/x-python",
   "name": "python",
   "nbconvert_exporter": "python",
   "pygments_lexer": "ipython3",
   "version": "3.7.10"
  }
 },
 "nbformat": 4,
 "nbformat_minor": 5
}
