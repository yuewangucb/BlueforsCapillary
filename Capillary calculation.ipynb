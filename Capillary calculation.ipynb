{
 "cells": [
  {
   "cell_type": "code",
   "execution_count": 3,
   "id": "0ab20aaf",
   "metadata": {},
   "outputs": [],
   "source": [
    "import numpy as np"
   ]
  },
  {
   "cell_type": "markdown",
   "id": "05f53a8f",
   "metadata": {},
   "source": [
    "# Variables"
   ]
  },
  {
   "cell_type": "markdown",
   "id": "13258de5",
   "metadata": {},
   "source": [
    "Helium viscosity from 2K to 5K: https://royalsocietypublishing.org/doi/10.1098/rspa.1950.0181\n",
    "\n",
    "Gas helium viscosity: https://pressbooks.uiowa.edu/clonedbook/chapter/viscosity-and-laminar-flow-poiseuilles-law/#import-auto-id3073392\n",
    "\n",
    "Stainless steel thermal conductivity: https://thermtest.com/thermal-conductivity-of-steel"
   ]
  },
  {
   "cell_type": "code",
   "execution_count": 86,
   "id": "3aaa8076",
   "metadata": {},
   "outputs": [],
   "source": [
    "OD_above_50K = 0.25*0.0254 #m\n",
    "OD_below_50K = 0.125*0.0254 #m\n",
    "\n",
    "thickness_above_50K = (0.25-0.18)*0.0254/2 #m, capillary wall thickness\n",
    "thickness_below_50K = (0.125-0.085)*0.0254/2 #m, capillary wall thickness\n",
    "\n",
    "length_above_50K = 10*0.0254 #m\n",
    "length_below_50K = 4*20*0.0254 #m\n",
    "\n",
    "pressure_warm_end_condensation = 1*10**5 #Pa\n",
    "pressure_cold_end_condensation = 0.25*10**5 #Pa, approximation\n",
    "pressure_50K_condensation = 0.5*10**5 #Pa, approximation. By ideal gas law: pressure_warm_end*42/300\n",
    "\n",
    "pressure_warm_end_evaporation = 0.01*10**5 #Pa\n",
    "pressure_cold_end_evaporation = 0.25*10**5 #Pa, approximation\n",
    "pressure_50K_evaporation = 0.05*10**5 #Pa, approximation. By ideal gas law: pressure_warm_end*42/300\n",
    "\n",
    "viscosity_gas = 0.0196*10**(-3) #Pa*s, https://pressbooks.uiowa.edu/clonedbook/chapter/viscosity-and-laminar-flow-poiseuilles-law/#import-auto-id3073392\n",
    "viscosity_liquid = 0.03*10**(-3) #Pa*s, https://royalsocietypublishing.org/doi/epdf/10.1098/rspa.1950.0181\n",
    "\n",
    "stainless_steel_thermal_conductivity = 15*10**(-3) #W/K, https://thermtest.com/thermal-conductivity-of-steel\n",
    "\n",
    "helium_volume = 0.1 #m^3, approximation"
   ]
  },
  {
   "cell_type": "markdown",
   "id": "ae8cd8b2",
   "metadata": {},
   "source": [
    "Poiseuille's Law: https://pressbooks.uiowa.edu/clonedbook/chapter/viscosity-and-laminar-flow-poiseuilles-law/"
   ]
  },
  {
   "cell_type": "code",
   "execution_count": 13,
   "id": "6d6d4a45",
   "metadata": {},
   "outputs": [],
   "source": [
    "#radius is the inner radius\n",
    "def getTubeVolmeFlowRate(viscosity, startPressure, endPressure, length, radius):\n",
    "    R = 8*viscosity*length/(np.pi*(radius**4))\n",
    "    return (startPressure-endPressure)/R"
   ]
  },
  {
   "cell_type": "markdown",
   "id": "4460eff5",
   "metadata": {},
   "source": [
    "Fourier's law of heat conduction for cylinders, page 8 on https://www.sfu.ca/~mbahrami/ENSC%20388/Notes/Staedy%20Conduction%20Heat%20Transfer.pdf"
   ]
  },
  {
   "cell_type": "code",
   "execution_count": 9,
   "id": "b6eb7326",
   "metadata": {},
   "outputs": [],
   "source": [
    "def getTubeHeatFlowRate(outerTemperature, innerTemperature, outerRadius, innerRadius, length, thermalConductivity):\n",
    "    R = (outerRadius - innerRadius)/(4*np.pi*innerRadius*outerRadius*thermalConductivity)\n",
    "    return (innerTemperature - outerTemperature)/R"
   ]
  },
  {
   "cell_type": "markdown",
   "id": "c7beeb1c",
   "metadata": {},
   "source": [
    "# Gas throughput"
   ]
  },
  {
   "cell_type": "markdown",
   "id": "38823201",
   "metadata": {},
   "source": [
    "## Condensation time"
   ]
  },
  {
   "cell_type": "code",
   "execution_count": 87,
   "id": "0b031d51",
   "metadata": {},
   "outputs": [
    {
     "name": "stdout",
     "output_type": "stream",
     "text": [
      "0.10770726704988587\n",
      "0.9284424601887248\n"
     ]
    }
   ],
   "source": [
    "inner_radius_above_50K = OD_above_50K/2 - thickness_above_50K\n",
    "condensation_volume_flow_rate_above_50K = getTubeVolmeFlowRate(viscosity_gas,pressure_warm_end_condensation,pressure_50K_condensation,length_above_50K,inner_radius_above_50K)\n",
    "condensation_time_above_50K = helium_volume/condensation_volume_flow_rate_above_50K\n",
    "print(condensation_volume_flow_rate_above_50K)\n",
    "print(condensation_time_above_50K) #in seconds"
   ]
  },
  {
   "cell_type": "code",
   "execution_count": 88,
   "id": "69a6d84f",
   "metadata": {},
   "outputs": [
    {
     "name": "stdout",
     "output_type": "stream",
     "text": [
      "0.005355878159813628\n",
      "298.73719159729285\n"
     ]
    }
   ],
   "source": [
    "inner_radius_below_50K = OD_below_50K/2 - thickness_below_50K\n",
    "condensation_volume_flow_rate_below_50K = getTubeVolmeFlowRate(viscosity_gas,pressure_50K_condensation,pressure_cold_end_condensation,length_below_50K,inner_radius_below_50K)\n",
    "condensation_time_below_50K = helium_volume/condensation_volume_flow_rate_below_50K\n",
    "print(volume_flow_rate_below_50K)\n",
    "print(condensation_time_below_50K) #in seconds"
   ]
  },
  {
   "cell_type": "markdown",
   "id": "8f93055e",
   "metadata": {},
   "source": [
    "The condensation time will be limited by the section below the 50K plate, which is 186 seconds."
   ]
  },
  {
   "cell_type": "markdown",
   "id": "e75a2136",
   "metadata": {},
   "source": [
    "## Evaporation time"
   ]
  },
  {
   "cell_type": "code",
   "execution_count": 89,
   "id": "071d79fa",
   "metadata": {},
   "outputs": [
    {
     "name": "stdout",
     "output_type": "stream",
     "text": [
      "1.723316272798174\n",
      "11.605530752359059\n"
     ]
    }
   ],
   "source": [
    "inner_radius_above_50K = OD_above_50K/2 - thickness_above_50K\n",
    "evaporation_volume_flow_rate_above_50K = getTubeVolmeFlowRate(viscosity_gas,pressure_50K_evaporation,pressure_warm_end_evaporation,length_above_50K,inner_radius_above_50K)\n",
    "evaporation_time_above_50K = helium_volume/evaporation_volume_flow_rate_above_50K\n",
    "print(volume_flow_rate_above_50K)\n",
    "print(evaporation_time_above_50K) #in seconds"
   ]
  },
  {
   "cell_type": "code",
   "execution_count": 90,
   "id": "161f567a",
   "metadata": {},
   "outputs": [
    {
     "name": "stdout",
     "output_type": "stream",
     "text": [
      "0.005355878159813628\n",
      "373.42148949661606\n"
     ]
    }
   ],
   "source": [
    "inner_radius_below_50K = OD_below_50K/2 - thickness_below_50K\n",
    "evaporation_volume_flow_rate_below_50K = getTubeVolmeFlowRate(viscosity_gas,pressure_cold_end_evaporation,pressure_50K_evaporation,length_below_50K,inner_radius_below_50K)\n",
    "evaporation_time_below_50K = helium_volume/evaporation_volume_flow_rate_below_50K\n",
    "print(volume_flow_rate_below_50K)\n",
    "print(evaporation_time_below_50K) #in seconds"
   ]
  },
  {
   "cell_type": "markdown",
   "id": "2800becc",
   "metadata": {},
   "source": [
    "The evaporation time will be limited by the section below the 50K plate, which is 373 seconds."
   ]
  },
  {
   "cell_type": "markdown",
   "id": "d8fe2385",
   "metadata": {},
   "source": [
    "# Heat Load"
   ]
  },
  {
   "cell_type": "code",
   "execution_count": 103,
   "id": "95024c1f",
   "metadata": {},
   "outputs": [
    {
     "name": "stdout",
     "output_type": "stream",
     "text": [
      "4.607910450388801\n"
     ]
    }
   ],
   "source": [
    "heat_flow_rate_above_50K = getTubeHeatFlowRate(42, 300, OD_above_50K/2, inner_radius_above_50K, length_above_50K, stainless_steel_thermal_conductivity)\n",
    "heat_load_above_50K = heat_flow_rate_above_50K*evaporation_time_above_50K\n",
    "print(heat_load_above_50K) #W"
   ]
  },
  {
   "cell_type": "code",
   "execution_count": 104,
   "id": "5870aee0",
   "metadata": {},
   "outputs": [
    {
     "name": "stdout",
     "output_type": "stream",
     "text": [
      "9.260569711857924\n"
     ]
    }
   ],
   "source": [
    "heat_flow_rate_4K_50K = getTubeHeatFlowRate(3, 42, OD_below_50K/2, inner_radius_below_50K, length_below_50K/4, stainless_steel_thermal_conductivity)\n",
    "heat_load_4K_50K = heat_flow_rate_4K_50K*evaporation_time_below_50K\n",
    "print(heat_load_4K_50K) #W"
   ]
  },
  {
   "cell_type": "code",
   "execution_count": 105,
   "id": "bcf60ff9",
   "metadata": {},
   "outputs": [
    {
     "name": "stdout",
     "output_type": "stream",
     "text": [
      "0.49864606140773443\n"
     ]
    }
   ],
   "source": [
    "heat_flow_rate_still_4K = getTubeHeatFlowRate(0.9, 3, OD_below_50K/2, inner_radius_below_50K, length_below_50K/4, stainless_steel_thermal_conductivity)\n",
    "heat_load_still_4K = heat_flow_rate_still_4K*evaporation_time_below_50K\n",
    "print(heat_load_still_4K)"
   ]
  },
  {
   "cell_type": "code",
   "execution_count": 106,
   "id": "b31141ca",
   "metadata": {},
   "outputs": [
    {
     "name": "stdout",
     "output_type": "stream",
     "text": [
      "0.19470941445444867\n"
     ]
    }
   ],
   "source": [
    "heat_flow_rate_cold_still = getTubeHeatFlowRate(0.08, 0.9, OD_below_50K/2, inner_radius_below_50K, length_below_50K/4, stainless_steel_thermal_conductivity)\n",
    "heat_load_cold_still = heat_flow_rate_cold_still*evaporation_time_below_50K\n",
    "print(heat_load_cold_still)"
   ]
  },
  {
   "cell_type": "code",
   "execution_count": 107,
   "id": "1fd95625",
   "metadata": {},
   "outputs": [
    {
     "name": "stdout",
     "output_type": "stream",
     "text": [
      "0.014247030325935267\n"
     ]
    }
   ],
   "source": [
    "heat_flow_rate_MXC_cold = getTubeHeatFlowRate(0.02,0.08, OD_below_50K/2, inner_radius_below_50K, length_below_50K/4, stainless_steel_thermal_conductivity)\n",
    "heat_load_MXC_cold = heat_flow_rate_MXC_cold*evaporation_time_below_50K\n",
    "print(heat_load_MXC_cold)"
   ]
  },
  {
   "cell_type": "code",
   "execution_count": 108,
   "id": "6ccb9079",
   "metadata": {},
   "outputs": [
    {
     "name": "stdout",
     "output_type": "stream",
     "text": [
      "14.576082668434845\n"
     ]
    }
   ],
   "source": [
    "#total heat load in W\n",
    "print(sum([heat_load_above_50K,heat_load_4K_50K,heat_load_still_4K,heat_load_cold_still,heat_load_MXC_cold]))"
   ]
  },
  {
   "cell_type": "markdown",
   "id": "ad08e5ce",
   "metadata": {},
   "source": [
    "# Alternative radius choice for the section below 50 K"
   ]
  },
  {
   "cell_type": "code",
   "execution_count": 112,
   "id": "c2f82c3c",
   "metadata": {},
   "outputs": [],
   "source": [
    "thickness_below_50K = (0.0625-0.0425)*0.0254/2 #m, capillary wall thickness"
   ]
  },
  {
   "cell_type": "markdown",
   "id": "3c52f0c1",
   "metadata": {},
   "source": [
    "# Gas throughput"
   ]
  },
  {
   "cell_type": "markdown",
   "id": "73e8e603",
   "metadata": {},
   "source": [
    "## Condensation time"
   ]
  },
  {
   "cell_type": "code",
   "execution_count": 116,
   "id": "c04f1a51",
   "metadata": {},
   "outputs": [
    {
     "name": "stdout",
     "output_type": "stream",
     "text": [
      "0.10770726704988587\n",
      "0.9284424601887248\n"
     ]
    }
   ],
   "source": [
    "inner_radius_above_50K = OD_above_50K/2 - thickness_above_50K\n",
    "condensation_volume_flow_rate_above_50K = getTubeVolmeFlowRate(viscosity_gas,pressure_warm_end_condensation,pressure_50K_condensation,length_above_50K,inner_radius_above_50K)\n",
    "condensation_time_above_50K = helium_volume/condensation_volume_flow_rate_above_50K\n",
    "print(condensation_volume_flow_rate_above_50K)\n",
    "print(condensation_time_above_50K) #in seconds"
   ]
  },
  {
   "cell_type": "code",
   "execution_count": 111,
   "id": "d4972109",
   "metadata": {},
   "outputs": [
    {
     "name": "stdout",
     "output_type": "stream",
     "text": [
      "0.005355878159813628\n",
      "128.29442968412084\n"
     ]
    }
   ],
   "source": [
    "inner_radius_below_50K = OD_below_50K/2 - thickness_below_50K\n",
    "condensation_volume_flow_rate_below_50K = getTubeVolmeFlowRate(viscosity_gas,pressure_50K_condensation,pressure_cold_end_condensation,length_below_50K,inner_radius_below_50K)\n",
    "condensation_time_below_50K = helium_volume/condensation_volume_flow_rate_below_50K\n",
    "print(volume_flow_rate_below_50K)\n",
    "print(condensation_time_below_50K) #in seconds"
   ]
  },
  {
   "cell_type": "markdown",
   "id": "ad46b03a",
   "metadata": {},
   "source": [
    "The condensation time will be limited by the section below the 50K plate, which is 128 seconds."
   ]
  },
  {
   "cell_type": "markdown",
   "id": "b41d91ad",
   "metadata": {},
   "source": [
    "## Evaporation time"
   ]
  },
  {
   "cell_type": "code",
   "execution_count": 114,
   "id": "e8d373ba",
   "metadata": {},
   "outputs": [
    {
     "name": "stdout",
     "output_type": "stream",
     "text": [
      "1.723316272798174\n",
      "11.605530752359059\n"
     ]
    }
   ],
   "source": [
    "inner_radius_above_50K = OD_above_50K/2 - thickness_above_50K\n",
    "evaporation_volume_flow_rate_above_50K = getTubeVolmeFlowRate(viscosity_gas,pressure_50K_evaporation,pressure_warm_end_evaporation,length_above_50K,inner_radius_above_50K)\n",
    "evaporation_time_above_50K = helium_volume/evaporation_volume_flow_rate_above_50K\n",
    "print(volume_flow_rate_above_50K)\n",
    "print(evaporation_time_above_50K) #in seconds"
   ]
  },
  {
   "cell_type": "code",
   "execution_count": 115,
   "id": "2d95f0c1",
   "metadata": {},
   "outputs": [
    {
     "name": "stdout",
     "output_type": "stream",
     "text": [
      "0.005355878159813628\n",
      "160.36803710515105\n"
     ]
    }
   ],
   "source": [
    "inner_radius_below_50K = OD_below_50K/2 - thickness_below_50K\n",
    "evaporation_volume_flow_rate_below_50K = getTubeVolmeFlowRate(viscosity_gas,pressure_cold_end_evaporation,pressure_50K_evaporation,length_below_50K,inner_radius_below_50K)\n",
    "evaporation_time_below_50K = helium_volume/evaporation_volume_flow_rate_below_50K\n",
    "print(volume_flow_rate_below_50K)\n",
    "print(evaporation_time_below_50K) #in seconds"
   ]
  },
  {
   "cell_type": "markdown",
   "id": "ef2fac80",
   "metadata": {},
   "source": [
    "The evaporation time will be limited by the section below the 50K plate, which is 373 seconds."
   ]
  },
  {
   "cell_type": "markdown",
   "id": "edd80a4d",
   "metadata": {},
   "source": [
    "# Heat Load"
   ]
  },
  {
   "cell_type": "code",
   "execution_count": 103,
   "id": "e62e06db",
   "metadata": {},
   "outputs": [
    {
     "name": "stdout",
     "output_type": "stream",
     "text": [
      "4.607910450388801\n"
     ]
    }
   ],
   "source": [
    "heat_flow_rate_above_50K = getTubeHeatFlowRate(42, 300, OD_above_50K/2, inner_radius_above_50K, length_above_50K, stainless_steel_thermal_conductivity)\n",
    "heat_load_above_50K = heat_flow_rate_above_50K*evaporation_time_above_50K\n",
    "print(heat_load_above_50K) #W"
   ]
  },
  {
   "cell_type": "code",
   "execution_count": 104,
   "id": "88f480cf",
   "metadata": {},
   "outputs": [
    {
     "name": "stdout",
     "output_type": "stream",
     "text": [
      "9.260569711857924\n"
     ]
    }
   ],
   "source": [
    "heat_flow_rate_4K_50K = getTubeHeatFlowRate(3, 42, OD_below_50K/2, inner_radius_below_50K, length_below_50K/4, stainless_steel_thermal_conductivity)\n",
    "heat_load_4K_50K = heat_flow_rate_4K_50K*evaporation_time_below_50K\n",
    "print(heat_load_4K_50K) #W"
   ]
  },
  {
   "cell_type": "code",
   "execution_count": 105,
   "id": "74022c8f",
   "metadata": {},
   "outputs": [
    {
     "name": "stdout",
     "output_type": "stream",
     "text": [
      "0.49864606140773443\n"
     ]
    }
   ],
   "source": [
    "heat_flow_rate_still_4K = getTubeHeatFlowRate(0.9, 3, OD_below_50K/2, inner_radius_below_50K, length_below_50K/4, stainless_steel_thermal_conductivity)\n",
    "heat_load_still_4K = heat_flow_rate_still_4K*evaporation_time_below_50K\n",
    "print(heat_load_still_4K)"
   ]
  },
  {
   "cell_type": "code",
   "execution_count": 106,
   "id": "13025d94",
   "metadata": {},
   "outputs": [
    {
     "name": "stdout",
     "output_type": "stream",
     "text": [
      "0.19470941445444867\n"
     ]
    }
   ],
   "source": [
    "heat_flow_rate_cold_still = getTubeHeatFlowRate(0.08, 0.9, OD_below_50K/2, inner_radius_below_50K, length_below_50K/4, stainless_steel_thermal_conductivity)\n",
    "heat_load_cold_still = heat_flow_rate_cold_still*evaporation_time_below_50K\n",
    "print(heat_load_cold_still)"
   ]
  },
  {
   "cell_type": "code",
   "execution_count": 107,
   "id": "0117dc1a",
   "metadata": {},
   "outputs": [
    {
     "name": "stdout",
     "output_type": "stream",
     "text": [
      "0.014247030325935267\n"
     ]
    }
   ],
   "source": [
    "heat_flow_rate_MXC_cold = getTubeHeatFlowRate(0.02,0.08, OD_below_50K/2, inner_radius_below_50K, length_below_50K/4, stainless_steel_thermal_conductivity)\n",
    "heat_load_MXC_cold = heat_flow_rate_MXC_cold*evaporation_time_below_50K\n",
    "print(heat_load_MXC_cold)"
   ]
  },
  {
   "cell_type": "code",
   "execution_count": 108,
   "id": "766249c6",
   "metadata": {},
   "outputs": [
    {
     "name": "stdout",
     "output_type": "stream",
     "text": [
      "14.576082668434845\n"
     ]
    }
   ],
   "source": [
    "#total heat load in W\n",
    "print(sum([heat_load_above_50K,heat_load_4K_50K,heat_load_still_4K,heat_load_cold_still,heat_load_MXC_cold]))"
   ]
  },
  {
   "cell_type": "code",
   "execution_count": null,
   "id": "89736e76",
   "metadata": {},
   "outputs": [],
   "source": []
  }
 ],
 "metadata": {
  "kernelspec": {
   "display_name": "Python 3",
   "language": "python",
   "name": "python3"
  },
  "language_info": {
   "codemirror_mode": {
    "name": "ipython",
    "version": 3
   },
   "file_extension": ".py",
   "mimetype": "text/x-python",
   "name": "python",
   "nbconvert_exporter": "python",
   "pygments_lexer": "ipython3",
   "version": "3.7.10"
  }
 },
 "nbformat": 4,
 "nbformat_minor": 5
}
