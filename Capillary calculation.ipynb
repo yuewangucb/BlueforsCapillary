{
 "cells": [
  {
   "cell_type": "code",
   "execution_count": 331,
   "id": "9ce2abac",
   "metadata": {},
   "outputs": [],
   "source": [
    "import numpy as np"
   ]
  },
  {
   "cell_type": "markdown",
   "id": "d85f2c61",
   "metadata": {},
   "source": [
    "# Variables"
   ]
  },
  {
   "cell_type": "markdown",
   "id": "f00cfb4a",
   "metadata": {},
   "source": [
    "Helium viscosity from 2K to 5K: https://royalsocietypublishing.org/doi/10.1098/rspa.1950.0181\n",
    "\n",
    "Gas helium viscosity: https://pressbooks.uiowa.edu/clonedbook/chapter/viscosity-and-laminar-flow-poiseuilles-law/#import-auto-id3073392\n",
    "\n",
    "Stainless steel thermal conductivity: https://thermtest.com/thermal-conductivity-of-steel"
   ]
  },
  {
   "cell_type": "code",
   "execution_count": 332,
   "id": "25b8821e",
   "metadata": {},
   "outputs": [],
   "source": [
    "#From A2 in Ekin's book\n",
    "\n",
    "thermalConductivityIntegral_300K = 3.06*10**3 #W/m\n",
    "\n",
    "thermalConductivityIntegral_40K = 82.4 #W/m\n",
    "\n",
    "thermalConductivityIntegral_4K = 0"
   ]
  },
  {
   "cell_type": "code",
   "execution_count": 460,
   "id": "29a2582a",
   "metadata": {},
   "outputs": [],
   "source": [
    "#Fig 5 from https://cds.cern.ch/record/1973682/files/arXiv:1501.07100.pdf\n",
    "\n",
    "thermalConductivityIntegral_1K = 0-(0.2+0.1+0.07)\n",
    "\n",
    "#page 67 from Pobell\n",
    "\n",
    "thermalConductivityIntegral_p1K = thermalConductivityIntegral_1K - 10**(-3)*0.5 - 4*10**(-4)*0.3 - 2*10**(-4)*0.1 #0.1K"
   ]
  },
  {
   "cell_type": "code",
   "execution_count": 487,
   "id": "95c317ed",
   "metadata": {},
   "outputs": [],
   "source": [
    "OD_above_50K = 0.25*0.0254 #m\n",
    "OD_below_50K = 0.125*0.0254 #m\n",
    "\n",
    "thickness_above_50K = (0.25-0.18)*0.0254/2 #m, capillary wall thickness\n",
    "thickness_below_50K = (0.125-0.085)*0.0254/2 #m, capillary wall thickness\n",
    "\n",
    "length_above_50K = 10*0.0254 #m\n",
    "length_below_50K = 4*20*0.0254 #m\n",
    "length_4K_50K = 20*0.0254 #m\n",
    "\n",
    "pressure_warm_end_condensation = 1*10**5 #Pa\n",
    "pressure_cold_end_condensation = 0.25*10**5 #Pa, approximation\n",
    "pressure_50K_condensation = 0.5*10**5 #Pa, approximation. By ideal gas law: pressure_warm_end*42/300\n",
    "\n",
    "pressure_warm_end_evaporation = 0.01*10**5 #Pa\n",
    "pressure_cold_end_evaporation = 0.25*10**5 #Pa, approximation\n",
    "pressure_50K_evaporation = 0.05*10**5 #Pa, approximation. By ideal gas law: pressure_warm_end*42/300\n",
    "\n",
    "viscosity_gas = 0.0196*10**(-3) #Pa*s, https://pressbooks.uiowa.edu/clonedbook/chapter/viscosity-and-laminar-flow-poiseuilles-law/#import-auto-id3073392\n",
    "viscosity_liquid = 0.03*10**(-3) #Pa*s, https://royalsocietypublishing.org/doi/epdf/10.1098/rspa.1950.0181\n",
    "\n",
    "stainless_steel_thermal_conductivity = 15*10**(-3) #W/K, https://thermtest.com/thermal-conductivity-of-steel\n",
    "\n",
    "helium_volume = 0.1 #m^3, approximation"
   ]
  },
  {
   "cell_type": "markdown",
   "id": "c70190e3",
   "metadata": {},
   "source": [
    "Poiseuille's Law: https://pressbooks.uiowa.edu/clonedbook/chapter/viscosity-and-laminar-flow-poiseuilles-law/"
   ]
  },
  {
   "cell_type": "code",
   "execution_count": 488,
   "id": "1f24eb55",
   "metadata": {},
   "outputs": [],
   "source": [
    "#radius is the inner radius\n",
    "def getTubeVolmeFlowRate(viscosity, startPressure, endPressure, length, radius):\n",
    "    R = 8*viscosity*length/(np.pi*(radius**4))\n",
    "    return (startPressure-endPressure)/R"
   ]
  },
  {
   "cell_type": "code",
   "execution_count": 489,
   "id": "0bd815c2",
   "metadata": {},
   "outputs": [],
   "source": [
    "#thermalConductivity_low_temperature: integrated thermal conductivity from A2 in Ekin's book\n",
    "def getHeatLoad(outerRadius, innerRadius, length, thermalConductivityIntegral_high_temperature, thermalConductivityIntegral_low_temperature):\n",
    "    \n",
    "    area = np.pi*(outerRadius**2-innerRadius**2)\n",
    "    print(area)\n",
    "    heat_load = (area/length)*(thermalConductivityIntegral_high_temperature-thermalConductivityIntegral_low_temperature)\n",
    "    \n",
    "    return heat_load #in W"
   ]
  },
  {
   "cell_type": "code",
   "execution_count": 490,
   "id": "edfe0c18",
   "metadata": {},
   "outputs": [],
   "source": [
    "#integrated\n",
    "def getFilmHeatLoad(innerRadius, height):\n",
    "    volume_flow = np.pi*3*10**(-6)*(2*innerRadius)**(3/4)*height**(-1/3) #m^3/s\n",
    "    film_density = 150 #gram per m^3\n",
    "    latent_heat = 25 #J per gram\n",
    "    \n",
    "    return volume_flow*film_density*latent_heat #W"
   ]
  },
  {
   "cell_type": "markdown",
   "id": "2004750e",
   "metadata": {},
   "source": [
    "# Gas throughput"
   ]
  },
  {
   "cell_type": "markdown",
   "id": "d59a5ab2",
   "metadata": {},
   "source": [
    "## Condensation time"
   ]
  },
  {
   "cell_type": "code",
   "execution_count": 491,
   "id": "e2bad7be",
   "metadata": {},
   "outputs": [
    {
     "name": "stdout",
     "output_type": "stream",
     "text": [
      "0.10770726704988587\n",
      "0.9284424601887248\n"
     ]
    }
   ],
   "source": [
    "inner_radius_above_50K = OD_above_50K/2 - thickness_above_50K\n",
    "condensation_volume_flow_rate_above_50K = getTubeVolmeFlowRate(viscosity_gas,pressure_warm_end_condensation,pressure_50K_condensation,length_above_50K,inner_radius_above_50K)\n",
    "condensation_time_above_50K = helium_volume/condensation_volume_flow_rate_above_50K\n",
    "print(condensation_volume_flow_rate_above_50K)\n",
    "print(condensation_time_above_50K) #in seconds"
   ]
  },
  {
   "cell_type": "code",
   "execution_count": 492,
   "id": "2ab82121",
   "metadata": {},
   "outputs": [
    {
     "name": "stdout",
     "output_type": "stream",
     "text": [
      "0.005355878159813628\n",
      "74.68429789932321\n"
     ]
    }
   ],
   "source": [
    "inner_radius_below_50K = OD_below_50K/2 - thickness_below_50K\n",
    "condensation_volume_flow_rate_below_50K = getTubeVolmeFlowRate(viscosity_gas,pressure_50K_condensation,pressure_cold_end_condensation,length_4K_50K,inner_radius_below_50K)\n",
    "condensation_time_below_50K = helium_volume/condensation_volume_flow_rate_below_50K\n",
    "print(volume_flow_rate_below_50K)\n",
    "print(condensation_time_below_50K) #in seconds"
   ]
  },
  {
   "cell_type": "markdown",
   "id": "666591f4",
   "metadata": {},
   "source": [
    "The condensation time will be limited by the section below the 50K plate, which is 75 seconds."
   ]
  },
  {
   "cell_type": "markdown",
   "id": "a57a729f",
   "metadata": {},
   "source": [
    "# Heat Load (unit in W)"
   ]
  },
  {
   "cell_type": "code",
   "execution_count": 471,
   "id": "f618442a",
   "metadata": {},
   "outputs": [
    {
     "name": "stdout",
     "output_type": "stream",
     "text": [
      "1.5251895120834685e-05\n",
      "0.17879544453463525\n"
     ]
    }
   ],
   "source": [
    "heat_flow_rate_above_50K = getHeatLoad(OD_above_50K/2, inner_radius_above_50K, length_above_50K, thermalConductivityIntegral_300K, thermalConductivityIntegral_40K)\n",
    "print(heat_flow_rate_above_50K)"
   ]
  },
  {
   "cell_type": "code",
   "execution_count": 472,
   "id": "f89071f4",
   "metadata": {},
   "outputs": [
    {
     "name": "stdout",
     "output_type": "stream",
     "text": [
      "4.2563428244189795e-06\n",
      "0.0006903989148270156\n"
     ]
    }
   ],
   "source": [
    "heat_flow_rate_4K_50K = getHeatLoad(OD_below_50K/2, inner_radius_below_50K, length_below_50K/4, thermalConductivityIntegral_40K,thermalConductivityIntegral_4K)\n",
    "print(heat_flow_rate_4K_50K)"
   ]
  },
  {
   "cell_type": "code",
   "execution_count": 473,
   "id": "d51c5981",
   "metadata": {},
   "outputs": [
    {
     "name": "stdout",
     "output_type": "stream",
     "text": [
      "4.2563428244189795e-06\n",
      "3.1000922146358716e-06\n"
     ]
    }
   ],
   "source": [
    "heat_flow_rate_still_4K = getHeatLoad(OD_below_50K/2, inner_radius_below_50K, length_below_50K/4, thermalConductivityIntegral_4K,thermalConductivityIntegral_1K)\n",
    "print(heat_flow_rate_still_4K)"
   ]
  },
  {
   "cell_type": "code",
   "execution_count": 494,
   "id": "3297b1d5",
   "metadata": {},
   "outputs": [
    {
     "name": "stdout",
     "output_type": "stream",
     "text": [
      "4.2563428244189795e-06\n",
      "5.362321668559591e-09\n"
     ]
    }
   ],
   "source": [
    "heat_flow_rate_cold_still = getHeatLoad(OD_below_50K/2, inner_radius_below_50K, length_below_50K/4, thermalConductivityIntegral_1K,thermalConductivityIntegral_bottom)\n",
    "print(heat_flow_rate_cold_still)"
   ]
  },
  {
   "cell_type": "code",
   "execution_count": 493,
   "id": "c9987fcf",
   "metadata": {},
   "outputs": [
    {
     "name": "stdout",
     "output_type": "stream",
     "text": [
      "4.2563428244189795e-06\n"
     ]
    },
    {
     "data": {
      "text/plain": [
       "2.6811608342797953e-09"
      ]
     },
     "execution_count": 493,
     "metadata": {},
     "output_type": "execute_result"
    }
   ],
   "source": [
    "getHeatLoad(OD_below_50K/2, inner_radius_below_50K, length_below_50K/2, thermalConductivityIntegral_1K,thermalConductivityIntegral_bottom)"
   ]
  },
  {
   "cell_type": "code",
   "execution_count": 346,
   "id": "47f2313b",
   "metadata": {},
   "outputs": [
    {
     "name": "stdout",
     "output_type": "stream",
     "text": [
      "0.17948894622283776\n"
     ]
    }
   ],
   "source": [
    "#total heat load in W\n",
    "print(sum([heat_flow_rate_above_50K,heat_flow_rate_4K_50K,heat_flow_rate_still_4K+heat_flow_rate_bottom_still]))"
   ]
  },
  {
   "cell_type": "markdown",
   "id": "e94ee86f",
   "metadata": {},
   "source": [
    "# Superfluid film heat load"
   ]
  },
  {
   "cell_type": "code",
   "execution_count": 424,
   "id": "0ad5c799",
   "metadata": {},
   "outputs": [
    {
     "name": "stdout",
     "output_type": "stream",
     "text": [
      "0.0010795000000000002\n"
     ]
    }
   ],
   "source": [
    "print(inner_radius_below_50K)"
   ]
  },
  {
   "cell_type": "code",
   "execution_count": 439,
   "id": "c83f50a9",
   "metadata": {},
   "outputs": [
    {
     "data": {
      "text/plain": [
       "8.911957604780256e-05"
      ]
     },
     "execution_count": 439,
     "metadata": {},
     "output_type": "execute_result"
    }
   ],
   "source": [
    "getFilmHeatLoad((0.01/2)*0.0254, length_4K_50K)"
   ]
  },
  {
   "cell_type": "code",
   "execution_count": 436,
   "id": "6518e92f",
   "metadata": {},
   "outputs": [
    {
     "data": {
      "text/plain": [
       "2.3765220279414013e-08"
      ]
     },
     "execution_count": 436,
     "metadata": {},
     "output_type": "execute_result"
    }
   ],
   "source": [
    "np.pi*3*10**(-6)*(0.01*0.0254)**(3/4)*length_4K_50K**(-1/3)"
   ]
  },
  {
   "cell_type": "code",
   "execution_count": 434,
   "id": "527c3c44",
   "metadata": {},
   "outputs": [
    {
     "name": "stdout",
     "output_type": "stream",
     "text": [
      "0.00044364675179058954\n"
     ]
    }
   ],
   "source": [
    "heat_flow_film_below_cold = getFilmHeatLoad(inner_radius_below_50K, length_4K_50K)\n",
    "print(heat_flow_film_below_cold)"
   ]
  },
  {
   "cell_type": "code",
   "execution_count": 420,
   "id": "d4672cc8",
   "metadata": {},
   "outputs": [],
   "source": [
    "heat_flow_film_below_still = getFilmHeatLoad(inner_radius_below_50K, 2*length_4K_50K)"
   ]
  },
  {
   "cell_type": "code",
   "execution_count": 421,
   "id": "6a31aa1e",
   "metadata": {},
   "outputs": [],
   "source": [
    "heat_flow_film_below_4K = getFilmHeatLoad(inner_radius_below_50K, 3*length_4K_50K)"
   ]
  },
  {
   "cell_type": "code",
   "execution_count": 422,
   "id": "17e5029f",
   "metadata": {},
   "outputs": [
    {
     "name": "stdout",
     "output_type": "stream",
     "text": [
      "0.0003076074771830429\n"
     ]
    }
   ],
   "source": [
    "print(heat_flow_film_below_4K)"
   ]
  },
  {
   "cell_type": "code",
   "execution_count": 423,
   "id": "5f1c6e7e",
   "metadata": {},
   "outputs": [
    {
     "name": "stdout",
     "output_type": "stream",
     "text": [
      "0.0003521226602473283\n"
     ]
    }
   ],
   "source": [
    "print(heat_flow_film_below_still)"
   ]
  },
  {
   "cell_type": "markdown",
   "id": "2f380385",
   "metadata": {},
   "source": [
    "# Alternative radius choice for the section below 50 K"
   ]
  },
  {
   "cell_type": "code",
   "execution_count": 478,
   "id": "0e34bd7a",
   "metadata": {},
   "outputs": [],
   "source": [
    "OD_below_50K = 0.0625*0.0254 #m\n",
    "thickness_below_50K = (0.0625-0.0425)*0.0254/2 #m, capillary wall thickness"
   ]
  },
  {
   "cell_type": "markdown",
   "id": "94f38f0c",
   "metadata": {},
   "source": [
    "# Gas throughput"
   ]
  },
  {
   "cell_type": "markdown",
   "id": "312056a9",
   "metadata": {},
   "source": [
    "## Condensation time"
   ]
  },
  {
   "cell_type": "code",
   "execution_count": 479,
   "id": "1e955d14",
   "metadata": {},
   "outputs": [
    {
     "name": "stdout",
     "output_type": "stream",
     "text": [
      "0.10770726704988587\n",
      "0.9284424601887248\n"
     ]
    }
   ],
   "source": [
    "inner_radius_above_50K = OD_above_50K/2 - thickness_above_50K\n",
    "condensation_volume_flow_rate_above_50K = getTubeVolmeFlowRate(viscosity_gas,pressure_warm_end_condensation,pressure_50K_condensation,length_above_50K,inner_radius_above_50K)\n",
    "condensation_time_above_50K = helium_volume/condensation_volume_flow_rate_above_50K\n",
    "print(condensation_volume_flow_rate_above_50K)\n",
    "print(condensation_time_above_50K) #in seconds"
   ]
  },
  {
   "cell_type": "code",
   "execution_count": 480,
   "id": "4716ef72",
   "metadata": {},
   "outputs": [
    {
     "name": "stdout",
     "output_type": "stream",
     "text": [
      "0.005355878159813628\n",
      "1194.9487663891714\n"
     ]
    }
   ],
   "source": [
    "inner_radius_below_50K = OD_below_50K/2 - thickness_below_50K\n",
    "condensation_volume_flow_rate_below_50K = getTubeVolmeFlowRate(viscosity_gas,pressure_50K_condensation,pressure_cold_end_condensation,length_4K_50K,inner_radius_below_50K)\n",
    "condensation_time_below_50K = helium_volume/condensation_volume_flow_rate_below_50K\n",
    "print(volume_flow_rate_below_50K)\n",
    "print(condensation_time_below_50K) #in seconds"
   ]
  },
  {
   "cell_type": "markdown",
   "id": "42371e4e",
   "metadata": {},
   "source": [
    "The condensation time will be limited by the section below the 50K plate, which is 1195 seconds."
   ]
  },
  {
   "cell_type": "markdown",
   "id": "3223ae68",
   "metadata": {},
   "source": [
    "# Heat Load"
   ]
  },
  {
   "cell_type": "code",
   "execution_count": 481,
   "id": "164401e2",
   "metadata": {
    "scrolled": true
   },
   "outputs": [
    {
     "name": "stdout",
     "output_type": "stream",
     "text": [
      "1.5251895120834685e-05\n",
      "0.17879544453463525\n"
     ]
    }
   ],
   "source": [
    "heat_flow_rate_above_50K = getHeatLoad(OD_above_50K/2, inner_radius_above_50K, length_above_50K, thermalConductivityIntegral_300K, thermalConductivityIntegral_40K)\n",
    "print(heat_flow_rate_above_50K)"
   ]
  },
  {
   "cell_type": "code",
   "execution_count": 482,
   "id": "d56448e2",
   "metadata": {},
   "outputs": [
    {
     "name": "stdout",
     "output_type": "stream",
     "text": [
      "1.0640857061047449e-06\n",
      "0.0001725997287067539\n"
     ]
    }
   ],
   "source": [
    "heat_flow_rate_4K_50K = getHeatLoad(OD_below_50K/2, inner_radius_below_50K, length_below_50K/4, thermalConductivityIntegral_40K,thermalConductivityIntegral_4K)\n",
    "print(heat_flow_rate_4K_50K)"
   ]
  },
  {
   "cell_type": "code",
   "execution_count": 483,
   "id": "9432dadc",
   "metadata": {},
   "outputs": [
    {
     "name": "stdout",
     "output_type": "stream",
     "text": [
      "1.0640857061047449e-06\n",
      "7.750230536589679e-07\n"
     ]
    }
   ],
   "source": [
    "heat_flow_rate_still_4K = getHeatLoad(OD_below_50K/2, inner_radius_below_50K, length_below_50K/4, thermalConductivityIntegral_4K,thermalConductivityIntegral_1K)\n",
    "print(heat_flow_rate_still_4K)"
   ]
  },
  {
   "cell_type": "code",
   "execution_count": 484,
   "id": "0a79ab08",
   "metadata": {},
   "outputs": [
    {
     "name": "stdout",
     "output_type": "stream",
     "text": [
      "1.0640857061047449e-06\n",
      "6.702902085699488e-10\n"
     ]
    }
   ],
   "source": [
    "heat_flow_rate_bottom_still = getHeatLoad(OD_below_50K/2, inner_radius_below_50K, length_below_50K/2, thermalConductivityIntegral_1K,thermalConductivityIntegral_bottom)\n",
    "print(heat_flow_rate_bottom_still)"
   ]
  },
  {
   "cell_type": "code",
   "execution_count": 486,
   "id": "4bbcfa48",
   "metadata": {},
   "outputs": [
    {
     "name": "stdout",
     "output_type": "stream",
     "text": [
      "1.0640857061047449e-06\n",
      "1.3405804171398977e-09\n"
     ]
    }
   ],
   "source": [
    "heat_flow_rate_bottom_still = getHeatLoad(OD_below_50K/2, inner_radius_below_50K, length_below_50K/4, thermalConductivityIntegral_1K,thermalConductivityIntegral_bottom)\n",
    "print(heat_flow_rate_bottom_still)"
   ]
  },
  {
   "cell_type": "code",
   "execution_count": 485,
   "id": "c4cad499",
   "metadata": {},
   "outputs": [
    {
     "name": "stdout",
     "output_type": "stream",
     "text": [
      "0.17896881995668587\n"
     ]
    }
   ],
   "source": [
    "#total heat load in W\n",
    "print(sum([heat_flow_rate_above_50K,heat_flow_rate_4K_50K,heat_flow_rate_still_4K+heat_flow_rate_bottom_still]))"
   ]
  },
  {
   "cell_type": "markdown",
   "id": "747e3828",
   "metadata": {},
   "source": [
    "# Superfluid film heat load"
   ]
  },
  {
   "cell_type": "code",
   "execution_count": 443,
   "id": "6cad877f",
   "metadata": {},
   "outputs": [
    {
     "name": "stdout",
     "output_type": "stream",
     "text": [
      "0.0002637939368886076\n"
     ]
    }
   ],
   "source": [
    "heat_flow_film_below_cold = getFilmHeatLoad(inner_radius_below_50K, length_4K_50K)\n",
    "print(heat_flow_film_below_cold)"
   ]
  },
  {
   "cell_type": "code",
   "execution_count": 444,
   "id": "93e397ba",
   "metadata": {},
   "outputs": [],
   "source": [
    "heat_flow_film_below_still = getFilmHeatLoad(inner_radius_below_50K, 2*length_4K_50K)"
   ]
  },
  {
   "cell_type": "code",
   "execution_count": 445,
   "id": "1398dbc0",
   "metadata": {},
   "outputs": [],
   "source": [
    "heat_flow_film_below_4K = getFilmHeatLoad(inner_radius_below_50K, 3*length_4K_50K)"
   ]
  },
  {
   "cell_type": "code",
   "execution_count": 448,
   "id": "120f8369",
   "metadata": {},
   "outputs": [
    {
     "name": "stdout",
     "output_type": "stream",
     "text": [
      "0.00020937338645990428\n"
     ]
    }
   ],
   "source": [
    "print(heat_flow_film_below_still)"
   ]
  },
  {
   "cell_type": "code",
   "execution_count": 449,
   "id": "a9f1c868",
   "metadata": {},
   "outputs": [
    {
     "name": "stdout",
     "output_type": "stream",
     "text": [
      "0.0001829045002470559\n"
     ]
    }
   ],
   "source": [
    "print(heat_flow_film_below_4K)"
   ]
  },
  {
   "cell_type": "code",
   "execution_count": null,
   "id": "aff06294",
   "metadata": {},
   "outputs": [],
   "source": []
  }
 ],
 "metadata": {
  "kernelspec": {
   "display_name": "Python 3",
   "language": "python",
   "name": "python3"
  },
  "language_info": {
   "codemirror_mode": {
    "name": "ipython",
    "version": 3
   },
   "file_extension": ".py",
   "mimetype": "text/x-python",
   "name": "python",
   "nbconvert_exporter": "python",
   "pygments_lexer": "ipython3",
   "version": "3.7.10"
  }
 },
 "nbformat": 4,
 "nbformat_minor": 5
}
