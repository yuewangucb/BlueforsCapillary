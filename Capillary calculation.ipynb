{
 "cells": [
  {
   "cell_type": "code",
   "execution_count": 3,
   "id": "a8a9a2b3",
   "metadata": {},
   "outputs": [],
   "source": [
    "import numpy as np"
   ]
  },
  {
   "cell_type": "markdown",
   "id": "95a54ecc",
   "metadata": {},
   "source": [
    "# Variables"
   ]
  },
  {
   "cell_type": "markdown",
   "id": "8365a710",
   "metadata": {},
   "source": [
    "Helium viscosity from 2K to 5K: https://royalsocietypublishing.org/doi/10.1098/rspa.1950.0181\n",
    "\n",
    "Gas helium viscosity: https://pressbooks.uiowa.edu/clonedbook/chapter/viscosity-and-laminar-flow-poiseuilles-law/#import-auto-id3073392\n",
    "\n",
    "Stainless steel thermal conductivity: https://thermtest.com/thermal-conductivity-of-steel"
   ]
  },
  {
   "cell_type": "code",
   "execution_count": 190,
   "id": "0e011bf3",
   "metadata": {},
   "outputs": [],
   "source": [
    "OD_above_50K = 0.25*0.0254 #m\n",
    "OD_below_50K = 0.125*0.0254 #m\n",
    "\n",
    "thickness_above_50K = (0.25-0.18)*0.0254/2 #m, capillary wall thickness\n",
    "thickness_below_50K = (0.125-0.085)*0.0254/2 #m, capillary wall thickness\n",
    "\n",
    "length_above_50K = 10*0.0254 #m\n",
    "length_below_50K = 4*20*0.0254 #m\n",
    "\n",
    "pressure_warm_end_condensation = 1*10**5 #Pa\n",
    "pressure_cold_end_condensation = 0.25*10**5 #Pa, approximation\n",
    "pressure_50K_condensation = 0.5*10**5 #Pa, approximation. By ideal gas law: pressure_warm_end*42/300\n",
    "\n",
    "pressure_warm_end_evaporation = 0.01*10**5 #Pa\n",
    "pressure_cold_end_evaporation = 0.25*10**5 #Pa, approximation\n",
    "pressure_50K_evaporation = 0.05*10**5 #Pa, approximation. By ideal gas law: pressure_warm_end*42/300\n",
    "\n",
    "viscosity_gas = 0.0196*10**(-3) #Pa*s, https://pressbooks.uiowa.edu/clonedbook/chapter/viscosity-and-laminar-flow-poiseuilles-law/#import-auto-id3073392\n",
    "viscosity_liquid = 0.03*10**(-3) #Pa*s, https://royalsocietypublishing.org/doi/epdf/10.1098/rspa.1950.0181\n",
    "\n",
    "stainless_steel_thermal_conductivity = 15*10**(-3) #W/K, https://thermtest.com/thermal-conductivity-of-steel\n",
    "\n",
    "helium_volume = 0.1 #m^3, approximation"
   ]
  },
  {
   "cell_type": "markdown",
   "id": "9f14b3f7",
   "metadata": {},
   "source": [
    "Poiseuille's Law: https://pressbooks.uiowa.edu/clonedbook/chapter/viscosity-and-laminar-flow-poiseuilles-law/"
   ]
  },
  {
   "cell_type": "code",
   "execution_count": 13,
   "id": "48ff81b1",
   "metadata": {},
   "outputs": [],
   "source": [
    "#radius is the inner radius\n",
    "def getTubeVolmeFlowRate(viscosity, startPressure, endPressure, length, radius):\n",
    "    R = 8*viscosity*length/(np.pi*(radius**4))\n",
    "    return (startPressure-endPressure)/R"
   ]
  },
  {
   "cell_type": "markdown",
   "id": "07494a1a",
   "metadata": {},
   "source": [
    "Fourier's law of heat conduction for cylinders, page 7 on https://www.sfu.ca/~mbahrami/ENSC%20388/Notes/Staedy%20Conduction%20Heat%20Transfer.pdf"
   ]
  },
  {
   "cell_type": "code",
   "execution_count": 177,
   "id": "3acbd5ab",
   "metadata": {},
   "outputs": [],
   "source": [
    "def getTubeHeatFlowRate(outerTemperature, innerTemperature, outerRadius, innerRadius, length, thermalConductivity):\n",
    "    R = np.log(outerRadius/innerRadius)/(2*np.pi*thermalConductivity*length)\n",
    "    return (innerTemperature - outerTemperature)/R"
   ]
  },
  {
   "cell_type": "code",
   "execution_count": 180,
   "id": "60685b4c",
   "metadata": {},
   "outputs": [],
   "source": [
    "#1D linear temperature gradient\n",
    "def getHeatLoad(outerTemperature, innerTemperature, outerRadius, innerRadius, length, thermalConductivity, time):\n",
    "    step_num = 100\n",
    "    temp_difference = innerTemperature - outerTemperature\n",
    "    heat_load = 0 #initialization\n",
    "    for i in range(step_num):\n",
    "        innerTemperature_current = innerTemperature-i*temp_difference/step_num\n",
    "        heatFlowRate = getTubeHeatFlowRate(outerTemperature, innerTemperature_current, outerRadius, innerRadius, length/step_num, thermalConductivity)\n",
    "        heat_load = heat_load+heatFlowRate*time\n",
    "        \n",
    "    return heat_load #in W"
   ]
  },
  {
   "cell_type": "markdown",
   "id": "87861c83",
   "metadata": {},
   "source": [
    "# Gas throughput"
   ]
  },
  {
   "cell_type": "markdown",
   "id": "25c0560d",
   "metadata": {},
   "source": [
    "## Condensation time"
   ]
  },
  {
   "cell_type": "code",
   "execution_count": 191,
   "id": "ce0e8a74",
   "metadata": {},
   "outputs": [
    {
     "name": "stdout",
     "output_type": "stream",
     "text": [
      "0.10770726704988587\n",
      "0.9284424601887248\n"
     ]
    }
   ],
   "source": [
    "inner_radius_above_50K = OD_above_50K/2 - thickness_above_50K\n",
    "condensation_volume_flow_rate_above_50K = getTubeVolmeFlowRate(viscosity_gas,pressure_warm_end_condensation,pressure_50K_condensation,length_above_50K,inner_radius_above_50K)\n",
    "condensation_time_above_50K = helium_volume/condensation_volume_flow_rate_above_50K\n",
    "print(condensation_volume_flow_rate_above_50K)\n",
    "print(condensation_time_above_50K) #in seconds"
   ]
  },
  {
   "cell_type": "code",
   "execution_count": 192,
   "id": "e24b0d39",
   "metadata": {},
   "outputs": [
    {
     "name": "stdout",
     "output_type": "stream",
     "text": [
      "0.005355878159813628\n",
      "298.73719159729285\n"
     ]
    }
   ],
   "source": [
    "inner_radius_below_50K = OD_below_50K/2 - thickness_below_50K\n",
    "condensation_volume_flow_rate_below_50K = getTubeVolmeFlowRate(viscosity_gas,pressure_50K_condensation,pressure_cold_end_condensation,length_below_50K,inner_radius_below_50K)\n",
    "condensation_time_below_50K = helium_volume/condensation_volume_flow_rate_below_50K\n",
    "print(volume_flow_rate_below_50K)\n",
    "print(condensation_time_below_50K) #in seconds"
   ]
  },
  {
   "cell_type": "markdown",
   "id": "f5c71f11",
   "metadata": {},
   "source": [
    "The condensation time will be limited by the section below the 50K plate, which is 298 seconds."
   ]
  },
  {
   "cell_type": "markdown",
   "id": "361cd448",
   "metadata": {},
   "source": [
    "## Evaporation time"
   ]
  },
  {
   "cell_type": "code",
   "execution_count": 193,
   "id": "c1785cf9",
   "metadata": {},
   "outputs": [
    {
     "name": "stdout",
     "output_type": "stream",
     "text": [
      "1.723316272798174\n",
      "11.605530752359059\n"
     ]
    }
   ],
   "source": [
    "inner_radius_above_50K = OD_above_50K/2 - thickness_above_50K\n",
    "evaporation_volume_flow_rate_above_50K = getTubeVolmeFlowRate(viscosity_gas,pressure_50K_evaporation,pressure_warm_end_evaporation,length_above_50K,inner_radius_above_50K)\n",
    "evaporation_time_above_50K = helium_volume/evaporation_volume_flow_rate_above_50K\n",
    "print(volume_flow_rate_above_50K)\n",
    "print(evaporation_time_above_50K) #in seconds"
   ]
  },
  {
   "cell_type": "code",
   "execution_count": 194,
   "id": "3ab83aac",
   "metadata": {},
   "outputs": [
    {
     "name": "stdout",
     "output_type": "stream",
     "text": [
      "0.005355878159813628\n",
      "373.42148949661606\n"
     ]
    }
   ],
   "source": [
    "inner_radius_below_50K = OD_below_50K/2 - thickness_below_50K\n",
    "evaporation_volume_flow_rate_below_50K = getTubeVolmeFlowRate(viscosity_gas,pressure_cold_end_evaporation,pressure_50K_evaporation,length_below_50K,inner_radius_below_50K)\n",
    "evaporation_time_below_50K = helium_volume/evaporation_volume_flow_rate_below_50K\n",
    "print(volume_flow_rate_below_50K)\n",
    "print(evaporation_time_below_50K) #in seconds"
   ]
  },
  {
   "cell_type": "markdown",
   "id": "fdd19883",
   "metadata": {},
   "source": [
    "The evaporation time will be limited by the section below the 50K plate, which is 373 seconds."
   ]
  },
  {
   "cell_type": "markdown",
   "id": "dcbcb7a0",
   "metadata": {},
   "source": [
    "# Heat Load (unit in W)"
   ]
  },
  {
   "cell_type": "code",
   "execution_count": 195,
   "id": "8a69b5e7",
   "metadata": {},
   "outputs": [
    {
     "name": "stdout",
     "output_type": "stream",
     "text": [
      "110.18949284769614\n"
     ]
    }
   ],
   "source": [
    "heat_flow_rate_above_50K = getHeatLoad(42, 300, OD_above_50K/2, inner_radius_above_50K, length_above_50K, stainless_steel_thermal_conductivity,evaporation_time_above_50K)\n",
    "print(heat_flow_rate_above_50K)"
   ]
  },
  {
   "cell_type": "code",
   "execution_count": 196,
   "id": "edd65303",
   "metadata": {},
   "outputs": [
    {
     "name": "stdout",
     "output_type": "stream",
     "text": [
      "913.025151078126\n"
     ]
    }
   ],
   "source": [
    "heat_flow_rate_4K_50K = getHeatLoad(3, 42, OD_below_50K/2, inner_radius_below_50K, length_below_50K/4, stainless_steel_thermal_conductivity,evaporation_time_below_50K)\n",
    "print(heat_flow_rate_4K_50K)"
   ]
  },
  {
   "cell_type": "code",
   "execution_count": 197,
   "id": "8b72ae2a",
   "metadata": {},
   "outputs": [
    {
     "name": "stdout",
     "output_type": "stream",
     "text": [
      "3.9891684912618754\n"
     ]
    }
   ],
   "source": [
    "heat_flow_rate_still_4K = getHeatLoad(0.9, 3, OD_below_50K/2, inner_radius_below_50K, length_below_50K/4, stainless_steel_thermal_conductivity,evaporation_time_below_50K)\n",
    "print(heat_load_still_4K)"
   ]
  },
  {
   "cell_type": "code",
   "execution_count": 198,
   "id": "d7a6e9a6",
   "metadata": {},
   "outputs": [
    {
     "name": "stdout",
     "output_type": "stream",
     "text": [
      "1.5576753156355894\n"
     ]
    }
   ],
   "source": [
    "heat_flow_rate_cold_still = getHeatLoad(0.08, 0.9, OD_below_50K/2, inner_radius_below_50K, length_below_50K/4, stainless_steel_thermal_conductivity,evaporation_time_below_50K)\n",
    "print(heat_load_cold_still)"
   ]
  },
  {
   "cell_type": "code",
   "execution_count": 199,
   "id": "774bcd2f",
   "metadata": {},
   "outputs": [
    {
     "name": "stdout",
     "output_type": "stream",
     "text": [
      "0.11397624260748214\n"
     ]
    }
   ],
   "source": [
    "heat_flow_rate_MXC_cold = getHeatLoad(0.02,0.08, OD_below_50K/2, inner_radius_below_50K, length_below_50K/4, stainless_steel_thermal_conductivity,evaporation_time_below_50K)\n",
    "print(heat_load_MXC_cold)"
   ]
  },
  {
   "cell_type": "code",
   "execution_count": 200,
   "id": "caee7e08",
   "metadata": {},
   "outputs": [
    {
     "name": "stdout",
     "output_type": "stream",
     "text": [
      "84.35328819475714\n"
     ]
    }
   ],
   "source": [
    "#total heat load in W\n",
    "print(sum([heat_load_above_50K,heat_load_4K_50K,heat_load_still_4K,heat_load_cold_still,heat_load_MXC_cold]))"
   ]
  },
  {
   "cell_type": "markdown",
   "id": "b043414e",
   "metadata": {},
   "source": [
    "# Alternative radius choice for the section below 50 K"
   ]
  },
  {
   "cell_type": "code",
   "execution_count": 201,
   "id": "224fe388",
   "metadata": {},
   "outputs": [],
   "source": [
    "OD_below_50K = 0.0625*0.0254 #m\n",
    "thickness_below_50K = (0.0625-0.0425)*0.0254/2 #m, capillary wall thickness"
   ]
  },
  {
   "cell_type": "markdown",
   "id": "b0242378",
   "metadata": {},
   "source": [
    "# Gas throughput"
   ]
  },
  {
   "cell_type": "markdown",
   "id": "5e8b38cb",
   "metadata": {},
   "source": [
    "## Condensation time"
   ]
  },
  {
   "cell_type": "code",
   "execution_count": 202,
   "id": "2ab3a3fa",
   "metadata": {},
   "outputs": [
    {
     "name": "stdout",
     "output_type": "stream",
     "text": [
      "0.10770726704988587\n",
      "0.9284424601887248\n"
     ]
    }
   ],
   "source": [
    "inner_radius_above_50K = OD_above_50K/2 - thickness_above_50K\n",
    "condensation_volume_flow_rate_above_50K = getTubeVolmeFlowRate(viscosity_gas,pressure_warm_end_condensation,pressure_50K_condensation,length_above_50K,inner_radius_above_50K)\n",
    "condensation_time_above_50K = helium_volume/condensation_volume_flow_rate_above_50K\n",
    "print(condensation_volume_flow_rate_above_50K)\n",
    "print(condensation_time_above_50K) #in seconds"
   ]
  },
  {
   "cell_type": "code",
   "execution_count": 203,
   "id": "2ec45057",
   "metadata": {},
   "outputs": [
    {
     "name": "stdout",
     "output_type": "stream",
     "text": [
      "0.005355878159813628\n",
      "4779.795065556686\n"
     ]
    }
   ],
   "source": [
    "inner_radius_below_50K = OD_below_50K/2 - thickness_below_50K\n",
    "condensation_volume_flow_rate_below_50K = getTubeVolmeFlowRate(viscosity_gas,pressure_50K_condensation,pressure_cold_end_condensation,length_below_50K,inner_radius_below_50K)\n",
    "condensation_time_below_50K = helium_volume/condensation_volume_flow_rate_below_50K\n",
    "print(volume_flow_rate_below_50K)\n",
    "print(condensation_time_below_50K) #in seconds"
   ]
  },
  {
   "cell_type": "markdown",
   "id": "35110b4e",
   "metadata": {},
   "source": [
    "The condensation time will be limited by the section below the 50K plate, which is 4779 seconds."
   ]
  },
  {
   "cell_type": "markdown",
   "id": "32247aa9",
   "metadata": {},
   "source": [
    "## Evaporation time"
   ]
  },
  {
   "cell_type": "code",
   "execution_count": 204,
   "id": "6787b7da",
   "metadata": {},
   "outputs": [
    {
     "name": "stdout",
     "output_type": "stream",
     "text": [
      "1.723316272798174\n",
      "11.605530752359059\n"
     ]
    }
   ],
   "source": [
    "inner_radius_above_50K = OD_above_50K/2 - thickness_above_50K\n",
    "evaporation_volume_flow_rate_above_50K = getTubeVolmeFlowRate(viscosity_gas,pressure_50K_evaporation,pressure_warm_end_evaporation,length_above_50K,inner_radius_above_50K)\n",
    "evaporation_time_above_50K = helium_volume/evaporation_volume_flow_rate_above_50K\n",
    "print(volume_flow_rate_above_50K)\n",
    "print(evaporation_time_above_50K) #in seconds"
   ]
  },
  {
   "cell_type": "code",
   "execution_count": 205,
   "id": "c160e4aa",
   "metadata": {},
   "outputs": [
    {
     "name": "stdout",
     "output_type": "stream",
     "text": [
      "0.005355878159813628\n",
      "5974.743831945857\n"
     ]
    }
   ],
   "source": [
    "inner_radius_below_50K = OD_below_50K/2 - thickness_below_50K\n",
    "evaporation_volume_flow_rate_below_50K = getTubeVolmeFlowRate(viscosity_gas,pressure_cold_end_evaporation,pressure_50K_evaporation,length_below_50K,inner_radius_below_50K)\n",
    "evaporation_time_below_50K = helium_volume/evaporation_volume_flow_rate_below_50K\n",
    "print(volume_flow_rate_below_50K)\n",
    "print(evaporation_time_below_50K) #in seconds"
   ]
  },
  {
   "cell_type": "markdown",
   "id": "9701ce0b",
   "metadata": {},
   "source": [
    "The evaporation time will be limited by the section below the 50K plate, which is 5974 seconds."
   ]
  },
  {
   "cell_type": "markdown",
   "id": "899eb03d",
   "metadata": {},
   "source": [
    "# Heat Load"
   ]
  },
  {
   "cell_type": "code",
   "execution_count": 213,
   "id": "2ccd5698",
   "metadata": {},
   "outputs": [
    {
     "name": "stdout",
     "output_type": "stream",
     "text": [
      "110.18949284769614\n"
     ]
    }
   ],
   "source": [
    "heat_flow_rate_above_50K = getHeatLoad(42, 300, OD_above_50K/2, inner_radius_above_50K, length_above_50K, stainless_steel_thermal_conductivity,evaporation_time_above_50K)\n",
    "print(heat_flow_rate_above_50K) #W"
   ]
  },
  {
   "cell_type": "code",
   "execution_count": 214,
   "id": "e22c9ac8",
   "metadata": {},
   "outputs": [
    {
     "name": "stdout",
     "output_type": "stream",
     "text": [
      "14608.402417250016\n"
     ]
    }
   ],
   "source": [
    "heat_flow_rate_4K_50K = getHeatLoad(3, 42, OD_below_50K/2, inner_radius_below_50K, length_below_50K/4, stainless_steel_thermal_conductivity,evaporation_time_below_50K)\n",
    "print(heat_flow_rate_4K_50K) #W"
   ]
  },
  {
   "cell_type": "code",
   "execution_count": 215,
   "id": "0d0cfc3e",
   "metadata": {},
   "outputs": [
    {
     "name": "stdout",
     "output_type": "stream",
     "text": [
      "786.6062840057701\n"
     ]
    }
   ],
   "source": [
    "heat_flow_rate_still_4K = getHeatLoad(0.9, 3, OD_below_50K/2, inner_radius_below_50K, length_below_50K/4, stainless_steel_thermal_conductivity,evaporation_time_below_50K)\n",
    "print(heat_flow_rate_still_4K)"
   ]
  },
  {
   "cell_type": "code",
   "execution_count": 216,
   "id": "b0a26a6d",
   "metadata": {},
   "outputs": [
    {
     "name": "stdout",
     "output_type": "stream",
     "text": [
      "307.15102518320543\n"
     ]
    }
   ],
   "source": [
    "heat_flow_rate_cold_still = getHeatLoad(0.08, 0.9, OD_below_50K/2, inner_radius_below_50K, length_below_50K/4, stainless_steel_thermal_conductivity,evaporation_time_below_50K)\n",
    "print(heat_flow_rate_cold_still)"
   ]
  },
  {
   "cell_type": "code",
   "execution_count": 217,
   "id": "7e6b4c5d",
   "metadata": {},
   "outputs": [
    {
     "name": "stdout",
     "output_type": "stream",
     "text": [
      "22.474465257307717\n"
     ]
    }
   ],
   "source": [
    "heat_flow_rate_MXC_cold = getHeatLoad(0.02,0.08, OD_below_50K/2, inner_radius_below_50K, length_below_50K/4, stainless_steel_thermal_conductivity,evaporation_time_below_50K)\n",
    "print(heat_flow_rate_MXC_cold)"
   ]
  },
  {
   "cell_type": "code",
   "execution_count": 218,
   "id": "caac697c",
   "metadata": {},
   "outputs": [
    {
     "name": "stdout",
     "output_type": "stream",
     "text": [
      "15834.823684543995\n"
     ]
    }
   ],
   "source": [
    "#total heat load in W\n",
    "print(sum([heat_flow_rate_above_50K,heat_flow_rate_4K_50K,heat_flow_rate_still_4K,heat_flow_rate_cold_still,heat_flow_rate_MXC_cold]))"
   ]
  },
  {
   "cell_type": "code",
   "execution_count": null,
   "id": "a9c4d7c3",
   "metadata": {},
   "outputs": [],
   "source": []
  }
 ],
 "metadata": {
  "kernelspec": {
   "display_name": "Python 3",
   "language": "python",
   "name": "python3"
  },
  "language_info": {
   "codemirror_mode": {
    "name": "ipython",
    "version": 3
   },
   "file_extension": ".py",
   "mimetype": "text/x-python",
   "name": "python",
   "nbconvert_exporter": "python",
   "pygments_lexer": "ipython3",
   "version": "3.7.10"
  }
 },
 "nbformat": 4,
 "nbformat_minor": 5
}
